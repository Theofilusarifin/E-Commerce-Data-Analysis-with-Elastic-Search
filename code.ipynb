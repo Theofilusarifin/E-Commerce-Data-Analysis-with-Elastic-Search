{
  "cells": [
    {
      "cell_type": "markdown",
      "id": "def8e46c-7606-4991-9b29-9223ccacd54b",
      "metadata": {
        "id": "def8e46c-7606-4991-9b29-9223ccacd54b"
      },
      "source": [
        "# Project: Database"
      ]
    },
    {
      "cell_type": "markdown",
      "id": "911a145c-7d01-4210-9699-0e1fef80ff19",
      "metadata": {
        "id": "911a145c-7d01-4210-9699-0e1fef80ff19"
      },
      "source": [
        "**Instructions for Students:**\n",
        "\n",
        "Please carefully follow these steps to complete and submit your project:\n",
        "\n",
        "1. **Completing the Project**: You are required to work on and complete all tasks in the provided project. Be disciplined and ensure that you thoroughly engage with each task.\n",
        "   \n",
        "2. **Creating a Google Drive Folder**: Each of you must create a new folder on your Google Drive if you haven't already. This will be the repository for all your completed assignment and project files, aiding you in keeping your work organized and accessible.\n",
        "   \n",
        "3. **Uploading Completed Project**: Upon completion of your project, make sure to upload all necessary files, involving codes, reports, and related documents into the created Google Drive folder. Save this link in the 'Student Identity' section and also provide it as the last parameter in the `submit` function that has been provided.\n",
        "   \n",
        "4. **Sharing Folder Link**: You're required to share the link to your project Google Drive folder. This is crucial for the submission and evaluation of your project.\n",
        "   \n",
        "5. **Setting Permission toPublic**: Please make sure your Google Drive folder is set to public. This allows your instructor to access your solutions and assess your work correctly.\n",
        "\n",
        "Adhering to these procedures will facilitate a smooth project evaluation process for you and the reviewers."
      ]
    },
    {
      "cell_type": "markdown",
      "id": "8018f21d-d661-4ae4-a50d-9fb66feb291d",
      "metadata": {
        "id": "8018f21d-d661-4ae4-a50d-9fb66feb291d"
      },
      "source": [
        "## Student Identity"
      ]
    },
    {
      "cell_type": "code",
      "execution_count": 1,
      "id": "9fc57472-0432-474a-b1f7-c825edfc007a",
      "metadata": {
        "id": "9fc57472-0432-474a-b1f7-c825edfc007a",
        "colab": {
          "base_uri": "https://localhost:8080/"
        },
        "outputId": "b3e8c71b-c926-41c4-9fa7-710f7653d65c"
      },
      "outputs": [
        {
          "output_type": "stream",
          "name": "stdout",
          "text": [
            "Collecting rggrader\n",
            "  Downloading rggrader-0.1.6-py3-none-any.whl (2.5 kB)\n",
            "Requirement already satisfied: requests in /usr/local/lib/python3.10/dist-packages (from rggrader) (2.31.0)\n",
            "Requirement already satisfied: pandas in /usr/local/lib/python3.10/dist-packages (from rggrader) (1.5.3)\n",
            "Requirement already satisfied: Pillow in /usr/local/lib/python3.10/dist-packages (from rggrader) (9.4.0)\n",
            "Requirement already satisfied: python-dateutil>=2.8.1 in /usr/local/lib/python3.10/dist-packages (from pandas->rggrader) (2.8.2)\n",
            "Requirement already satisfied: pytz>=2020.1 in /usr/local/lib/python3.10/dist-packages (from pandas->rggrader) (2023.4)\n",
            "Requirement already satisfied: numpy>=1.21.0 in /usr/local/lib/python3.10/dist-packages (from pandas->rggrader) (1.25.2)\n",
            "Requirement already satisfied: charset-normalizer<4,>=2 in /usr/local/lib/python3.10/dist-packages (from requests->rggrader) (3.3.2)\n",
            "Requirement already satisfied: idna<4,>=2.5 in /usr/local/lib/python3.10/dist-packages (from requests->rggrader) (3.6)\n",
            "Requirement already satisfied: urllib3<3,>=1.21.1 in /usr/local/lib/python3.10/dist-packages (from requests->rggrader) (2.0.7)\n",
            "Requirement already satisfied: certifi>=2017.4.17 in /usr/local/lib/python3.10/dist-packages (from requests->rggrader) (2024.2.2)\n",
            "Requirement already satisfied: six>=1.5 in /usr/local/lib/python3.10/dist-packages (from python-dateutil>=2.8.1->pandas->rggrader) (1.16.0)\n",
            "Installing collected packages: rggrader\n",
            "Successfully installed rggrader-0.1.6\n"
          ]
        }
      ],
      "source": [
        "# @title #### Student Identity\n",
        "student_id = \"REAGRZQD\" # @param {type:\"string\"}\n",
        "name = \"Theofilus Arifin\" # @param {type:\"string\"}\n",
        "drive_link = \"https://drive.google.com/drive/folders/13jcavEC5d6Yq6E46eqrUyg4VZB8NjkOu?usp=sharing\"  # @param {type:\"string\"}\n",
        "\n",
        "assignment_id = \"00_database_project\"\n",
        "\n",
        "# Import grader package\n",
        "!pip install rggrader\n",
        "from rggrader import submit, submit_image"
      ]
    },
    {
      "cell_type": "markdown",
      "id": "d3b9e0f7-75d2-476a-9b29-07c1a3800925",
      "metadata": {
        "id": "d3b9e0f7-75d2-476a-9b29-07c1a3800925"
      },
      "source": [
        "## Project Description\n",
        "\n",
        "In this project, you'll work with the Kaggle E-commerce dataset. Your tasks are to import this dataset into a SQLite database, explore it using SQL to identify key attributes and patterns, and perform basic data cleaning procedures. This project is designed to improve your skills in database management, SQL usage, and data cleaning."
      ]
    },
    {
      "cell_type": "markdown",
      "id": "84fea308-2c09-472c-a5ec-e4ba0900d496",
      "metadata": {
        "id": "84fea308-2c09-472c-a5ec-e4ba0900d496"
      },
      "source": [
        "Rmember to make a copy of this notebook in your Google Drive and work in your own copy."
      ]
    },
    {
      "cell_type": "markdown",
      "id": "e0b68327-fc7b-43de-9f16-b058d11d775b",
      "metadata": {
        "id": "e0b68327-fc7b-43de-9f16-b058d11d775b"
      },
      "source": [
        "## I. Loading and Querying with SQL\n",
        "\n",
        "In this task, you will use Kaggle E-commerce dataset. You need to download it from the link here: [Kaggle E-commerce data](https://www.kaggle.com/datasets/carrie1/ecommerce-data?select=data.csv).\n",
        "\n",
        "After you download the dataset, you will then import the dataset into SQL format, using SQLite."
      ]
    },
    {
      "cell_type": "markdown",
      "id": "25ecc459-5019-42d8-84a6-8644cecafef3",
      "metadata": {
        "id": "25ecc459-5019-42d8-84a6-8644cecafef3"
      },
      "source": [
        "### I.1. Package and Module Installation\n",
        "\n",
        "First, let's pool all package and module that you'll need in the installation section below."
      ]
    },
    {
      "cell_type": "code",
      "execution_count": 2,
      "id": "62606ca1-5868-4c65-93ef-1d6ee8d8d59a",
      "metadata": {
        "id": "62606ca1-5868-4c65-93ef-1d6ee8d8d59a"
      },
      "outputs": [],
      "source": [
        "import sqlite3\n",
        "import pandas as pd"
      ]
    },
    {
      "cell_type": "markdown",
      "id": "b0837717-de95-4193-9898-e2f4cadfcfc6",
      "metadata": {
        "id": "b0837717-de95-4193-9898-e2f4cadfcfc6"
      },
      "source": [
        "### I.2. Data Loading and SQL CREATE and INSERT to database table\n",
        "\n",
        "Now you can create the database and tables. Follow the same column naming as the dataset.\n",
        "\n",
        "Next insert all the data from the dataset into the table in the database."
      ]
    },
    {
      "cell_type": "code",
      "source": [
        "!git clone https://github.com/Theofilusarifin/E-Commerce-Data-Analysis-with-Elastic-Search"
      ],
      "metadata": {
        "colab": {
          "base_uri": "https://localhost:8080/"
        },
        "id": "yKGskj1asdVq",
        "outputId": "506ccbc4-258b-417c-8cc5-c76f30e07c87"
      },
      "id": "yKGskj1asdVq",
      "execution_count": 3,
      "outputs": [
        {
          "output_type": "stream",
          "name": "stdout",
          "text": [
            "Cloning into 'E-Commerce-Data-Analysis-with-Elastic-Search'...\n",
            "remote: Enumerating objects: 7, done.\u001b[K\n",
            "remote: Counting objects: 100% (7/7), done.\u001b[K\n",
            "remote: Compressing objects: 100% (5/5), done.\u001b[K\n",
            "remote: Total 7 (delta 0), reused 3 (delta 0), pack-reused 0\u001b[K\n",
            "Receiving objects: 100% (7/7), 7.23 MiB | 412.00 KiB/s, done.\n"
          ]
        }
      ]
    },
    {
      "cell_type": "code",
      "source": [
        "df = pd.read_csv('/content/E-Commerce-Data-Analysis-with-Elastic-Search/dataset.csv', encoding='latin1')\n",
        "df.shape"
      ],
      "metadata": {
        "colab": {
          "base_uri": "https://localhost:8080/"
        },
        "id": "yYOK7xvashOE",
        "outputId": "53531a22-009e-45c1-fc06-24b0b64041c8"
      },
      "id": "yYOK7xvashOE",
      "execution_count": 4,
      "outputs": [
        {
          "output_type": "execute_result",
          "data": {
            "text/plain": [
              "(541909, 8)"
            ]
          },
          "metadata": {},
          "execution_count": 4
        }
      ]
    },
    {
      "cell_type": "code",
      "source": [
        "df.head(3)"
      ],
      "metadata": {
        "colab": {
          "base_uri": "https://localhost:8080/",
          "height": 143
        },
        "id": "HYI0ClTEy9n0",
        "outputId": "33e5bfc2-b0c8-4e69-9937-6b3d9ae68360"
      },
      "id": "HYI0ClTEy9n0",
      "execution_count": 5,
      "outputs": [
        {
          "output_type": "execute_result",
          "data": {
            "text/plain": [
              "  InvoiceNo StockCode                         Description  Quantity  \\\n",
              "0    536365    85123A  WHITE HANGING HEART T-LIGHT HOLDER         6   \n",
              "1    536365     71053                 WHITE METAL LANTERN         6   \n",
              "2    536365    84406B      CREAM CUPID HEARTS COAT HANGER         8   \n",
              "\n",
              "      InvoiceDate  UnitPrice  CustomerID         Country  \n",
              "0  12/1/2010 8:26       2.55     17850.0  United Kingdom  \n",
              "1  12/1/2010 8:26       3.39     17850.0  United Kingdom  \n",
              "2  12/1/2010 8:26       2.75     17850.0  United Kingdom  "
            ],
            "text/html": [
              "\n",
              "  <div id=\"df-d9efb349-4f5f-4c5f-ab80-3dbd2754669a\" class=\"colab-df-container\">\n",
              "    <div>\n",
              "<style scoped>\n",
              "    .dataframe tbody tr th:only-of-type {\n",
              "        vertical-align: middle;\n",
              "    }\n",
              "\n",
              "    .dataframe tbody tr th {\n",
              "        vertical-align: top;\n",
              "    }\n",
              "\n",
              "    .dataframe thead th {\n",
              "        text-align: right;\n",
              "    }\n",
              "</style>\n",
              "<table border=\"1\" class=\"dataframe\">\n",
              "  <thead>\n",
              "    <tr style=\"text-align: right;\">\n",
              "      <th></th>\n",
              "      <th>InvoiceNo</th>\n",
              "      <th>StockCode</th>\n",
              "      <th>Description</th>\n",
              "      <th>Quantity</th>\n",
              "      <th>InvoiceDate</th>\n",
              "      <th>UnitPrice</th>\n",
              "      <th>CustomerID</th>\n",
              "      <th>Country</th>\n",
              "    </tr>\n",
              "  </thead>\n",
              "  <tbody>\n",
              "    <tr>\n",
              "      <th>0</th>\n",
              "      <td>536365</td>\n",
              "      <td>85123A</td>\n",
              "      <td>WHITE HANGING HEART T-LIGHT HOLDER</td>\n",
              "      <td>6</td>\n",
              "      <td>12/1/2010 8:26</td>\n",
              "      <td>2.55</td>\n",
              "      <td>17850.0</td>\n",
              "      <td>United Kingdom</td>\n",
              "    </tr>\n",
              "    <tr>\n",
              "      <th>1</th>\n",
              "      <td>536365</td>\n",
              "      <td>71053</td>\n",
              "      <td>WHITE METAL LANTERN</td>\n",
              "      <td>6</td>\n",
              "      <td>12/1/2010 8:26</td>\n",
              "      <td>3.39</td>\n",
              "      <td>17850.0</td>\n",
              "      <td>United Kingdom</td>\n",
              "    </tr>\n",
              "    <tr>\n",
              "      <th>2</th>\n",
              "      <td>536365</td>\n",
              "      <td>84406B</td>\n",
              "      <td>CREAM CUPID HEARTS COAT HANGER</td>\n",
              "      <td>8</td>\n",
              "      <td>12/1/2010 8:26</td>\n",
              "      <td>2.75</td>\n",
              "      <td>17850.0</td>\n",
              "      <td>United Kingdom</td>\n",
              "    </tr>\n",
              "  </tbody>\n",
              "</table>\n",
              "</div>\n",
              "    <div class=\"colab-df-buttons\">\n",
              "\n",
              "  <div class=\"colab-df-container\">\n",
              "    <button class=\"colab-df-convert\" onclick=\"convertToInteractive('df-d9efb349-4f5f-4c5f-ab80-3dbd2754669a')\"\n",
              "            title=\"Convert this dataframe to an interactive table.\"\n",
              "            style=\"display:none;\">\n",
              "\n",
              "  <svg xmlns=\"http://www.w3.org/2000/svg\" height=\"24px\" viewBox=\"0 -960 960 960\">\n",
              "    <path d=\"M120-120v-720h720v720H120Zm60-500h600v-160H180v160Zm220 220h160v-160H400v160Zm0 220h160v-160H400v160ZM180-400h160v-160H180v160Zm440 0h160v-160H620v160ZM180-180h160v-160H180v160Zm440 0h160v-160H620v160Z\"/>\n",
              "  </svg>\n",
              "    </button>\n",
              "\n",
              "  <style>\n",
              "    .colab-df-container {\n",
              "      display:flex;\n",
              "      gap: 12px;\n",
              "    }\n",
              "\n",
              "    .colab-df-convert {\n",
              "      background-color: #E8F0FE;\n",
              "      border: none;\n",
              "      border-radius: 50%;\n",
              "      cursor: pointer;\n",
              "      display: none;\n",
              "      fill: #1967D2;\n",
              "      height: 32px;\n",
              "      padding: 0 0 0 0;\n",
              "      width: 32px;\n",
              "    }\n",
              "\n",
              "    .colab-df-convert:hover {\n",
              "      background-color: #E2EBFA;\n",
              "      box-shadow: 0px 1px 2px rgba(60, 64, 67, 0.3), 0px 1px 3px 1px rgba(60, 64, 67, 0.15);\n",
              "      fill: #174EA6;\n",
              "    }\n",
              "\n",
              "    .colab-df-buttons div {\n",
              "      margin-bottom: 4px;\n",
              "    }\n",
              "\n",
              "    [theme=dark] .colab-df-convert {\n",
              "      background-color: #3B4455;\n",
              "      fill: #D2E3FC;\n",
              "    }\n",
              "\n",
              "    [theme=dark] .colab-df-convert:hover {\n",
              "      background-color: #434B5C;\n",
              "      box-shadow: 0px 1px 3px 1px rgba(0, 0, 0, 0.15);\n",
              "      filter: drop-shadow(0px 1px 2px rgba(0, 0, 0, 0.3));\n",
              "      fill: #FFFFFF;\n",
              "    }\n",
              "  </style>\n",
              "\n",
              "    <script>\n",
              "      const buttonEl =\n",
              "        document.querySelector('#df-d9efb349-4f5f-4c5f-ab80-3dbd2754669a button.colab-df-convert');\n",
              "      buttonEl.style.display =\n",
              "        google.colab.kernel.accessAllowed ? 'block' : 'none';\n",
              "\n",
              "      async function convertToInteractive(key) {\n",
              "        const element = document.querySelector('#df-d9efb349-4f5f-4c5f-ab80-3dbd2754669a');\n",
              "        const dataTable =\n",
              "          await google.colab.kernel.invokeFunction('convertToInteractive',\n",
              "                                                    [key], {});\n",
              "        if (!dataTable) return;\n",
              "\n",
              "        const docLinkHtml = 'Like what you see? Visit the ' +\n",
              "          '<a target=\"_blank\" href=https://colab.research.google.com/notebooks/data_table.ipynb>data table notebook</a>'\n",
              "          + ' to learn more about interactive tables.';\n",
              "        element.innerHTML = '';\n",
              "        dataTable['output_type'] = 'display_data';\n",
              "        await google.colab.output.renderOutput(dataTable, element);\n",
              "        const docLink = document.createElement('div');\n",
              "        docLink.innerHTML = docLinkHtml;\n",
              "        element.appendChild(docLink);\n",
              "      }\n",
              "    </script>\n",
              "  </div>\n",
              "\n",
              "\n",
              "<div id=\"df-7ffb2247-816b-4aba-9feb-9cb94c1364b7\">\n",
              "  <button class=\"colab-df-quickchart\" onclick=\"quickchart('df-7ffb2247-816b-4aba-9feb-9cb94c1364b7')\"\n",
              "            title=\"Suggest charts\"\n",
              "            style=\"display:none;\">\n",
              "\n",
              "<svg xmlns=\"http://www.w3.org/2000/svg\" height=\"24px\"viewBox=\"0 0 24 24\"\n",
              "     width=\"24px\">\n",
              "    <g>\n",
              "        <path d=\"M19 3H5c-1.1 0-2 .9-2 2v14c0 1.1.9 2 2 2h14c1.1 0 2-.9 2-2V5c0-1.1-.9-2-2-2zM9 17H7v-7h2v7zm4 0h-2V7h2v10zm4 0h-2v-4h2v4z\"/>\n",
              "    </g>\n",
              "</svg>\n",
              "  </button>\n",
              "\n",
              "<style>\n",
              "  .colab-df-quickchart {\n",
              "      --bg-color: #E8F0FE;\n",
              "      --fill-color: #1967D2;\n",
              "      --hover-bg-color: #E2EBFA;\n",
              "      --hover-fill-color: #174EA6;\n",
              "      --disabled-fill-color: #AAA;\n",
              "      --disabled-bg-color: #DDD;\n",
              "  }\n",
              "\n",
              "  [theme=dark] .colab-df-quickchart {\n",
              "      --bg-color: #3B4455;\n",
              "      --fill-color: #D2E3FC;\n",
              "      --hover-bg-color: #434B5C;\n",
              "      --hover-fill-color: #FFFFFF;\n",
              "      --disabled-bg-color: #3B4455;\n",
              "      --disabled-fill-color: #666;\n",
              "  }\n",
              "\n",
              "  .colab-df-quickchart {\n",
              "    background-color: var(--bg-color);\n",
              "    border: none;\n",
              "    border-radius: 50%;\n",
              "    cursor: pointer;\n",
              "    display: none;\n",
              "    fill: var(--fill-color);\n",
              "    height: 32px;\n",
              "    padding: 0;\n",
              "    width: 32px;\n",
              "  }\n",
              "\n",
              "  .colab-df-quickchart:hover {\n",
              "    background-color: var(--hover-bg-color);\n",
              "    box-shadow: 0 1px 2px rgba(60, 64, 67, 0.3), 0 1px 3px 1px rgba(60, 64, 67, 0.15);\n",
              "    fill: var(--button-hover-fill-color);\n",
              "  }\n",
              "\n",
              "  .colab-df-quickchart-complete:disabled,\n",
              "  .colab-df-quickchart-complete:disabled:hover {\n",
              "    background-color: var(--disabled-bg-color);\n",
              "    fill: var(--disabled-fill-color);\n",
              "    box-shadow: none;\n",
              "  }\n",
              "\n",
              "  .colab-df-spinner {\n",
              "    border: 2px solid var(--fill-color);\n",
              "    border-color: transparent;\n",
              "    border-bottom-color: var(--fill-color);\n",
              "    animation:\n",
              "      spin 1s steps(1) infinite;\n",
              "  }\n",
              "\n",
              "  @keyframes spin {\n",
              "    0% {\n",
              "      border-color: transparent;\n",
              "      border-bottom-color: var(--fill-color);\n",
              "      border-left-color: var(--fill-color);\n",
              "    }\n",
              "    20% {\n",
              "      border-color: transparent;\n",
              "      border-left-color: var(--fill-color);\n",
              "      border-top-color: var(--fill-color);\n",
              "    }\n",
              "    30% {\n",
              "      border-color: transparent;\n",
              "      border-left-color: var(--fill-color);\n",
              "      border-top-color: var(--fill-color);\n",
              "      border-right-color: var(--fill-color);\n",
              "    }\n",
              "    40% {\n",
              "      border-color: transparent;\n",
              "      border-right-color: var(--fill-color);\n",
              "      border-top-color: var(--fill-color);\n",
              "    }\n",
              "    60% {\n",
              "      border-color: transparent;\n",
              "      border-right-color: var(--fill-color);\n",
              "    }\n",
              "    80% {\n",
              "      border-color: transparent;\n",
              "      border-right-color: var(--fill-color);\n",
              "      border-bottom-color: var(--fill-color);\n",
              "    }\n",
              "    90% {\n",
              "      border-color: transparent;\n",
              "      border-bottom-color: var(--fill-color);\n",
              "    }\n",
              "  }\n",
              "</style>\n",
              "\n",
              "  <script>\n",
              "    async function quickchart(key) {\n",
              "      const quickchartButtonEl =\n",
              "        document.querySelector('#' + key + ' button');\n",
              "      quickchartButtonEl.disabled = true;  // To prevent multiple clicks.\n",
              "      quickchartButtonEl.classList.add('colab-df-spinner');\n",
              "      try {\n",
              "        const charts = await google.colab.kernel.invokeFunction(\n",
              "            'suggestCharts', [key], {});\n",
              "      } catch (error) {\n",
              "        console.error('Error during call to suggestCharts:', error);\n",
              "      }\n",
              "      quickchartButtonEl.classList.remove('colab-df-spinner');\n",
              "      quickchartButtonEl.classList.add('colab-df-quickchart-complete');\n",
              "    }\n",
              "    (() => {\n",
              "      let quickchartButtonEl =\n",
              "        document.querySelector('#df-7ffb2247-816b-4aba-9feb-9cb94c1364b7 button');\n",
              "      quickchartButtonEl.style.display =\n",
              "        google.colab.kernel.accessAllowed ? 'block' : 'none';\n",
              "    })();\n",
              "  </script>\n",
              "</div>\n",
              "    </div>\n",
              "  </div>\n"
            ],
            "application/vnd.google.colaboratory.intrinsic+json": {
              "type": "dataframe",
              "variable_name": "df"
            }
          },
          "metadata": {},
          "execution_count": 5
        }
      ]
    },
    {
      "cell_type": "code",
      "execution_count": 6,
      "id": "3b0e5e58-277e-41ef-9b1c-951e5d150191",
      "metadata": {
        "id": "3b0e5e58-277e-41ef-9b1c-951e5d150191"
      },
      "outputs": [],
      "source": [
        "conn = sqlite3.connect('sqlite.db')\n",
        "\n",
        "cur = conn.cursor()"
      ]
    },
    {
      "cell_type": "markdown",
      "source": [
        "#### Create Table"
      ],
      "metadata": {
        "id": "ir3-G-Tmwftb"
      },
      "id": "ir3-G-Tmwftb"
    },
    {
      "cell_type": "code",
      "source": [
        "cur.execute('''DROP TABLE IF EXISTS ecommerce''')"
      ],
      "metadata": {
        "colab": {
          "base_uri": "https://localhost:8080/"
        },
        "id": "YewDat8byad3",
        "outputId": "33bf18a0-fa23-4b71-f8b9-794d63feb696"
      },
      "id": "YewDat8byad3",
      "execution_count": 7,
      "outputs": [
        {
          "output_type": "execute_result",
          "data": {
            "text/plain": [
              "<sqlite3.Cursor at 0x7849e86ef140>"
            ]
          },
          "metadata": {},
          "execution_count": 7
        }
      ]
    },
    {
      "cell_type": "code",
      "source": [
        "cur.execute('''\n",
        "  CREATE TABLE IF NOT EXISTS ecommerce (\n",
        "      InvoiceNo VARCHAR,\n",
        "      StockCode VARCHAR,\n",
        "      Description TEXT,\n",
        "      Quantity INTEGER,\n",
        "      InvoiceDate DATETIME,\n",
        "      UnitPrice FLOAT,\n",
        "      CustomerID FLOAT,\n",
        "      Country VARCHAR\n",
        "  )\n",
        "''')\n",
        "\n",
        "# Commit the transaction\n",
        "conn.commit()"
      ],
      "metadata": {
        "id": "LxRcQMbIwjc7"
      },
      "id": "LxRcQMbIwjc7",
      "execution_count": 8,
      "outputs": []
    },
    {
      "cell_type": "code",
      "source": [
        "pd.read_sql_query('SELECT * FROM ecommerce', conn)"
      ],
      "metadata": {
        "id": "003cuPVYxa9O",
        "colab": {
          "base_uri": "https://localhost:8080/",
          "height": 53
        },
        "outputId": "6b17cab2-9751-481a-dedb-5f9913a12a58"
      },
      "id": "003cuPVYxa9O",
      "execution_count": 9,
      "outputs": [
        {
          "output_type": "execute_result",
          "data": {
            "text/plain": [
              "Empty DataFrame\n",
              "Columns: [InvoiceNo, StockCode, Description, Quantity, InvoiceDate, UnitPrice, CustomerID, Country]\n",
              "Index: []"
            ],
            "text/html": [
              "\n",
              "  <div id=\"df-ce23f40d-01ad-4320-863b-7830d61d41b3\" class=\"colab-df-container\">\n",
              "    <div>\n",
              "<style scoped>\n",
              "    .dataframe tbody tr th:only-of-type {\n",
              "        vertical-align: middle;\n",
              "    }\n",
              "\n",
              "    .dataframe tbody tr th {\n",
              "        vertical-align: top;\n",
              "    }\n",
              "\n",
              "    .dataframe thead th {\n",
              "        text-align: right;\n",
              "    }\n",
              "</style>\n",
              "<table border=\"1\" class=\"dataframe\">\n",
              "  <thead>\n",
              "    <tr style=\"text-align: right;\">\n",
              "      <th></th>\n",
              "      <th>InvoiceNo</th>\n",
              "      <th>StockCode</th>\n",
              "      <th>Description</th>\n",
              "      <th>Quantity</th>\n",
              "      <th>InvoiceDate</th>\n",
              "      <th>UnitPrice</th>\n",
              "      <th>CustomerID</th>\n",
              "      <th>Country</th>\n",
              "    </tr>\n",
              "  </thead>\n",
              "  <tbody>\n",
              "  </tbody>\n",
              "</table>\n",
              "</div>\n",
              "    <div class=\"colab-df-buttons\">\n",
              "\n",
              "  <div class=\"colab-df-container\">\n",
              "    <button class=\"colab-df-convert\" onclick=\"convertToInteractive('df-ce23f40d-01ad-4320-863b-7830d61d41b3')\"\n",
              "            title=\"Convert this dataframe to an interactive table.\"\n",
              "            style=\"display:none;\">\n",
              "\n",
              "  <svg xmlns=\"http://www.w3.org/2000/svg\" height=\"24px\" viewBox=\"0 -960 960 960\">\n",
              "    <path d=\"M120-120v-720h720v720H120Zm60-500h600v-160H180v160Zm220 220h160v-160H400v160Zm0 220h160v-160H400v160ZM180-400h160v-160H180v160Zm440 0h160v-160H620v160ZM180-180h160v-160H180v160Zm440 0h160v-160H620v160Z\"/>\n",
              "  </svg>\n",
              "    </button>\n",
              "\n",
              "  <style>\n",
              "    .colab-df-container {\n",
              "      display:flex;\n",
              "      gap: 12px;\n",
              "    }\n",
              "\n",
              "    .colab-df-convert {\n",
              "      background-color: #E8F0FE;\n",
              "      border: none;\n",
              "      border-radius: 50%;\n",
              "      cursor: pointer;\n",
              "      display: none;\n",
              "      fill: #1967D2;\n",
              "      height: 32px;\n",
              "      padding: 0 0 0 0;\n",
              "      width: 32px;\n",
              "    }\n",
              "\n",
              "    .colab-df-convert:hover {\n",
              "      background-color: #E2EBFA;\n",
              "      box-shadow: 0px 1px 2px rgba(60, 64, 67, 0.3), 0px 1px 3px 1px rgba(60, 64, 67, 0.15);\n",
              "      fill: #174EA6;\n",
              "    }\n",
              "\n",
              "    .colab-df-buttons div {\n",
              "      margin-bottom: 4px;\n",
              "    }\n",
              "\n",
              "    [theme=dark] .colab-df-convert {\n",
              "      background-color: #3B4455;\n",
              "      fill: #D2E3FC;\n",
              "    }\n",
              "\n",
              "    [theme=dark] .colab-df-convert:hover {\n",
              "      background-color: #434B5C;\n",
              "      box-shadow: 0px 1px 3px 1px rgba(0, 0, 0, 0.15);\n",
              "      filter: drop-shadow(0px 1px 2px rgba(0, 0, 0, 0.3));\n",
              "      fill: #FFFFFF;\n",
              "    }\n",
              "  </style>\n",
              "\n",
              "    <script>\n",
              "      const buttonEl =\n",
              "        document.querySelector('#df-ce23f40d-01ad-4320-863b-7830d61d41b3 button.colab-df-convert');\n",
              "      buttonEl.style.display =\n",
              "        google.colab.kernel.accessAllowed ? 'block' : 'none';\n",
              "\n",
              "      async function convertToInteractive(key) {\n",
              "        const element = document.querySelector('#df-ce23f40d-01ad-4320-863b-7830d61d41b3');\n",
              "        const dataTable =\n",
              "          await google.colab.kernel.invokeFunction('convertToInteractive',\n",
              "                                                    [key], {});\n",
              "        if (!dataTable) return;\n",
              "\n",
              "        const docLinkHtml = 'Like what you see? Visit the ' +\n",
              "          '<a target=\"_blank\" href=https://colab.research.google.com/notebooks/data_table.ipynb>data table notebook</a>'\n",
              "          + ' to learn more about interactive tables.';\n",
              "        element.innerHTML = '';\n",
              "        dataTable['output_type'] = 'display_data';\n",
              "        await google.colab.output.renderOutput(dataTable, element);\n",
              "        const docLink = document.createElement('div');\n",
              "        docLink.innerHTML = docLinkHtml;\n",
              "        element.appendChild(docLink);\n",
              "      }\n",
              "    </script>\n",
              "  </div>\n",
              "\n",
              "    </div>\n",
              "  </div>\n"
            ],
            "application/vnd.google.colaboratory.intrinsic+json": {
              "type": "dataframe",
              "summary": "{\n  \"name\": \"pd\",\n  \"rows\": 0,\n  \"fields\": [\n    {\n      \"column\": \"InvoiceNo\",\n      \"properties\": {\n        \"dtype\": \"date\",\n        \"min\": NaN,\n        \"max\": NaN,\n        \"samples\": [],\n        \"num_unique_values\": 0,\n        \"semantic_type\": \"\",\n        \"description\": \"\"\n      }\n    },\n    {\n      \"column\": \"StockCode\",\n      \"properties\": {\n        \"dtype\": \"date\",\n        \"min\": NaN,\n        \"max\": NaN,\n        \"samples\": [],\n        \"num_unique_values\": 0,\n        \"semantic_type\": \"\",\n        \"description\": \"\"\n      }\n    },\n    {\n      \"column\": \"Description\",\n      \"properties\": {\n        \"dtype\": \"date\",\n        \"min\": NaN,\n        \"max\": NaN,\n        \"samples\": [],\n        \"num_unique_values\": 0,\n        \"semantic_type\": \"\",\n        \"description\": \"\"\n      }\n    },\n    {\n      \"column\": \"Quantity\",\n      \"properties\": {\n        \"dtype\": \"date\",\n        \"min\": NaN,\n        \"max\": NaN,\n        \"samples\": [],\n        \"num_unique_values\": 0,\n        \"semantic_type\": \"\",\n        \"description\": \"\"\n      }\n    },\n    {\n      \"column\": \"InvoiceDate\",\n      \"properties\": {\n        \"dtype\": \"date\",\n        \"min\": NaN,\n        \"max\": NaN,\n        \"samples\": [],\n        \"num_unique_values\": 0,\n        \"semantic_type\": \"\",\n        \"description\": \"\"\n      }\n    },\n    {\n      \"column\": \"UnitPrice\",\n      \"properties\": {\n        \"dtype\": \"date\",\n        \"min\": NaN,\n        \"max\": NaN,\n        \"samples\": [],\n        \"num_unique_values\": 0,\n        \"semantic_type\": \"\",\n        \"description\": \"\"\n      }\n    },\n    {\n      \"column\": \"CustomerID\",\n      \"properties\": {\n        \"dtype\": \"date\",\n        \"min\": NaN,\n        \"max\": NaN,\n        \"samples\": [],\n        \"num_unique_values\": 0,\n        \"semantic_type\": \"\",\n        \"description\": \"\"\n      }\n    },\n    {\n      \"column\": \"Country\",\n      \"properties\": {\n        \"dtype\": \"date\",\n        \"min\": NaN,\n        \"max\": NaN,\n        \"samples\": [],\n        \"num_unique_values\": 0,\n        \"semantic_type\": \"\",\n        \"description\": \"\"\n      }\n    }\n  ]\n}"
            }
          },
          "metadata": {},
          "execution_count": 9
        }
      ]
    },
    {
      "cell_type": "markdown",
      "source": [
        "#### Insert Data"
      ],
      "metadata": {
        "id": "8s-r3tdhxqlf"
      },
      "id": "8s-r3tdhxqlf"
    },
    {
      "cell_type": "code",
      "source": [
        "for index, row in df.iterrows():\n",
        "    cur.execute('''\n",
        "        INSERT INTO ecommerce (InvoiceNo, StockCode, Description, Quantity, InvoiceDate, UnitPrice, CustomerID, Country)\n",
        "        VALUES (?, ?, ?, ?, ?, ?, ?, ?)\n",
        "    ''', (row['InvoiceNo'], row['StockCode'], row['Description'], row['Quantity'], row['InvoiceDate'], row['UnitPrice'], row['CustomerID'], row['Country'])\n",
        "    )\n",
        "\n",
        "conn.commit()"
      ],
      "metadata": {
        "id": "mfmREYk4xsXT"
      },
      "id": "mfmREYk4xsXT",
      "execution_count": 10,
      "outputs": []
    },
    {
      "cell_type": "code",
      "source": [
        "pd.read_sql_query('SELECT * FROM ecommerce', conn).shape"
      ],
      "metadata": {
        "id": "J7htPZNyys1G",
        "colab": {
          "base_uri": "https://localhost:8080/"
        },
        "outputId": "88d640fd-27c1-4e51-f71a-0399302881a5"
      },
      "id": "J7htPZNyys1G",
      "execution_count": 11,
      "outputs": [
        {
          "output_type": "execute_result",
          "data": {
            "text/plain": [
              "(541909, 8)"
            ]
          },
          "metadata": {},
          "execution_count": 11
        }
      ]
    },
    {
      "cell_type": "code",
      "source": [
        "conn.close()"
      ],
      "metadata": {
        "id": "L45KdqvqzdZq"
      },
      "id": "L45KdqvqzdZq",
      "execution_count": 12,
      "outputs": []
    },
    {
      "cell_type": "markdown",
      "id": "30ce0c59-0e94-480a-81ae-528e68356a15",
      "metadata": {
        "id": "30ce0c59-0e94-480a-81ae-528e68356a15"
      },
      "source": [
        "### I.3. Verifying the database\n",
        "\n",
        "Before we go to the next section, let's check our database first. You need to change the db_name and table_name with your database name and table name, afterwards you can just run the code block. The result should be:\n",
        "\n",
        "- Columns: ['InvoiceNo', 'StockCode', 'Description', 'Quantity', 'InvoiceDate', 'UnitPrice', 'CustomerID', 'Country']\n",
        "- Number of rows: 541909"
      ]
    },
    {
      "cell_type": "code",
      "execution_count": 13,
      "id": "1aa3c3f7-c6c5-4419-9b25-e8d7a8ec345a",
      "metadata": {
        "id": "1aa3c3f7-c6c5-4419-9b25-e8d7a8ec345a",
        "colab": {
          "base_uri": "https://localhost:8080/"
        },
        "outputId": "ada1d8ca-ee20-4655-cf53-c8d10874df69"
      },
      "outputs": [
        {
          "output_type": "stream",
          "name": "stdout",
          "text": [
            "Columns: ['InvoiceNo', 'StockCode', 'Description', 'Quantity', 'InvoiceDate', 'UnitPrice', 'CustomerID', 'Country']\n",
            "Number of rows: 541909\n"
          ]
        }
      ],
      "source": [
        "import sqlite3\n",
        "\n",
        "# Connect to SQLite database\n",
        "conn = sqlite3.connect('sqlite.db') #change db_name to your database name.\n",
        "cur = conn.cursor()\n",
        "\n",
        "# Get column names\n",
        "cur.execute(\"PRAGMA table_info(ecommerce)\") #change table_name to your table name\n",
        "sql_columns = [column[1] for column in cur.fetchall()] #the variable sql_columns is used for submission, do not change the variable name\n",
        "print(f\"Columns: {sql_columns}\")\n",
        "\n",
        "# Get total number of rows\n",
        "cur.execute(\"SELECT COUNT(*) FROM ecommerce\") #change table_name to your table name\n",
        "sql_num_rows = cur.fetchone()[0] #the variable sql_num_rows is used for submission, do not change the variable name\n",
        "print(f\"Number of rows: {sql_num_rows}\")\n",
        "\n",
        "# Close the connection\n",
        "conn.close()"
      ]
    },
    {
      "cell_type": "markdown",
      "id": "585b925f-fcf0-4518-81d8-598dba65d646",
      "metadata": {
        "id": "585b925f-fcf0-4518-81d8-598dba65d646"
      },
      "source": [
        "### I.3.4. Running SQL Queries\n",
        "\n",
        "Once we have the database in SQL format, let's do some data exploration and analysis.\n",
        "\n",
        "You are part of the engineering team at a global e-commerce company. Your company has a vast catalogue of products and serves customers around the globe. As the company continues to grow, the management decides it's time to expand the business even more.\n",
        "\n",
        "As an essential part of this expansion, your team is tasked with diving into your company's rich e-commerce dataset to extract crucial insights that will guide the expansion strategy.\n",
        "\n",
        "1. **Total number of unique products and unique customers:**\n",
        "\n",
        "   Your first task is to gauge the breadth of your operations. By determining the total number of unique products you sell and the total number of unique customers you serve, you can assess the scale and diversity of your business.\n",
        "\n",
        "2. **Total revenue for each product:**\n",
        "\n",
        "   Next, you're going to identify the star performers in your product portfolio. Calculating the total revenue for each product will reveal which items are the biggest revenue drivers. These insights can help guide decisions about product focus and marketing efforts. Limit the result to the top 5 product with the biggest revenue.\n",
        "\n",
        "3. **Most profitable countries (by total sales):**\n",
        "\n",
        "   To pinpoint the most fruitful geographic areas for your business, you'll identify which countries generate the most profit. This data will help you understand where your operations are already strong and where there might be potential for regional expansion. Limit the result to the top 5 countries with the biggest profit.\n",
        "\n",
        "4. **Top-selling products (by total sales) for each country from number 3:**\n",
        "\n",
        "   Product popularity may vary across different regions. Determining the top-selling products by sales for each country will provide a clear picture of regional preferences, informing decisions about product distribution in different markets. Limit the result to the top 5 products for each countries.\n",
        "\n",
        "4. **Top-selling products (by quantity) for each country from number 3:**\n",
        "\n",
        "   Product popularity may vary across different regions. Determining the top-selling products by quantity for each country will provide a clear picture of regional preferences, informing decisions about product distribution in different markets. Limit the result to the top 5 products for each countries.\n",
        "\n",
        "By answering these queries, your team will provide valuable data-driven insights that will directly contribute to the strategic decisions about where and how your business expands. As part of the engineering team, you're not just maintaining the technical infrastructure - you're shaping the future of the company.\n",
        "\n",
        "> Hint: The Product name is stored in column Descrioption"
      ]
    },
    {
      "cell_type": "code",
      "source": [
        "conn = sqlite3.connect('sqlite.db')\n",
        "cur = conn.cursor()"
      ],
      "metadata": {
        "id": "tYcZFgUo2Gzo"
      },
      "id": "tYcZFgUo2Gzo",
      "execution_count": 14,
      "outputs": []
    },
    {
      "cell_type": "code",
      "execution_count": 15,
      "id": "ee33d9bc-2b35-4f78-b5d8-3eb65db1e361",
      "metadata": {
        "id": "ee33d9bc-2b35-4f78-b5d8-3eb65db1e361"
      },
      "outputs": [],
      "source": [
        "# Write your SQL Query here\n",
        "sql_num_products = 0\n",
        "sql_num_customers = 0\n",
        "sql_top_product_revenues = [] # list of tuples, where each tupple contains the product name and total revenue/total sales, see example\n",
        "sql_top_countries = [] # list of tuples, where each tupple contains the product name and total revenue/total sales, see example\n",
        "sql_top_selling_products_by_country_by_sales = {} #dictionary where key is country name, value is a list of top-selling products by sales, see example below\n",
        "sql_top_selling_products_by_country_by_quantity = {} #dictionary where key is country name, value is a list of top-selling products by quantity, see example below"
      ]
    },
    {
      "cell_type": "markdown",
      "source": [
        "#### 1. Find the total number of unique products and unique customers"
      ],
      "metadata": {
        "id": "ogZg96wZ1YDq"
      },
      "id": "ogZg96wZ1YDq"
    },
    {
      "cell_type": "code",
      "source": [
        "cur.execute(\"SELECT COUNT(DISTINCT(StockCode)) FROM ecommerce\")\n",
        "sql_num_products = cur.fetchone()[0]\n",
        "print(f\"Number of Unique Products: {sql_num_products}\")"
      ],
      "metadata": {
        "colab": {
          "base_uri": "https://localhost:8080/"
        },
        "id": "qt4LezMZ4I9B",
        "outputId": "c8f91318-2cd8-4a5e-ca50-bedcda222525"
      },
      "id": "qt4LezMZ4I9B",
      "execution_count": 16,
      "outputs": [
        {
          "output_type": "stream",
          "name": "stdout",
          "text": [
            "Number of Unique Products: 4070\n"
          ]
        }
      ]
    },
    {
      "cell_type": "code",
      "source": [
        "cur.execute(\"SELECT COUNT(DISTINCT(CustomerID)) FROM ecommerce\")\n",
        "sql_num_customers = cur.fetchone()[0]\n",
        "print(f\"Number of Unique Customer: {sql_num_customers}\")"
      ],
      "metadata": {
        "colab": {
          "base_uri": "https://localhost:8080/"
        },
        "id": "DP_AfbOe4Rke",
        "outputId": "3a9477b8-05e4-4149-a5df-72e451de825d"
      },
      "id": "DP_AfbOe4Rke",
      "execution_count": 17,
      "outputs": [
        {
          "output_type": "stream",
          "name": "stdout",
          "text": [
            "Number of Unique Customer: 4372\n"
          ]
        }
      ]
    },
    {
      "cell_type": "markdown",
      "source": [
        "#### 2. Calculate the total revenue for each product, limited to top 5"
      ],
      "metadata": {
        "id": "8POjSwjl1e8V"
      },
      "id": "8POjSwjl1e8V"
    },
    {
      "cell_type": "code",
      "source": [
        "product_revenue = pd.read_sql_query('''\n",
        "  SELECT\n",
        "    Description,\n",
        "    SUM(Quantity * UnitPrice) as Revenue\n",
        "  FROM\n",
        "    ecommerce\n",
        "  GROUP BY\n",
        "    Description\n",
        "  ORDER BY\n",
        "    Revenue DESC\n",
        "  LIMIT 5\n",
        "''', conn)\n",
        "\n",
        "product_revenue"
      ],
      "metadata": {
        "colab": {
          "base_uri": "https://localhost:8080/",
          "height": 206
        },
        "id": "p_ju3etW5bmf",
        "outputId": "cddfcbb4-fd50-4ead-9811-d46ae43db816"
      },
      "id": "p_ju3etW5bmf",
      "execution_count": 18,
      "outputs": [
        {
          "output_type": "execute_result",
          "data": {
            "text/plain": [
              "                          Description    Revenue\n",
              "0                      DOTCOM POSTAGE  206245.48\n",
              "1            REGENCY CAKESTAND 3 TIER  164762.19\n",
              "2  WHITE HANGING HEART T-LIGHT HOLDER   99668.47\n",
              "3                       PARTY BUNTING   98302.98\n",
              "4             JUMBO BAG RED RETROSPOT   92356.03"
            ],
            "text/html": [
              "\n",
              "  <div id=\"df-d4060d40-6eb1-400a-ac9c-33e41ac9e08b\" class=\"colab-df-container\">\n",
              "    <div>\n",
              "<style scoped>\n",
              "    .dataframe tbody tr th:only-of-type {\n",
              "        vertical-align: middle;\n",
              "    }\n",
              "\n",
              "    .dataframe tbody tr th {\n",
              "        vertical-align: top;\n",
              "    }\n",
              "\n",
              "    .dataframe thead th {\n",
              "        text-align: right;\n",
              "    }\n",
              "</style>\n",
              "<table border=\"1\" class=\"dataframe\">\n",
              "  <thead>\n",
              "    <tr style=\"text-align: right;\">\n",
              "      <th></th>\n",
              "      <th>Description</th>\n",
              "      <th>Revenue</th>\n",
              "    </tr>\n",
              "  </thead>\n",
              "  <tbody>\n",
              "    <tr>\n",
              "      <th>0</th>\n",
              "      <td>DOTCOM POSTAGE</td>\n",
              "      <td>206245.48</td>\n",
              "    </tr>\n",
              "    <tr>\n",
              "      <th>1</th>\n",
              "      <td>REGENCY CAKESTAND 3 TIER</td>\n",
              "      <td>164762.19</td>\n",
              "    </tr>\n",
              "    <tr>\n",
              "      <th>2</th>\n",
              "      <td>WHITE HANGING HEART T-LIGHT HOLDER</td>\n",
              "      <td>99668.47</td>\n",
              "    </tr>\n",
              "    <tr>\n",
              "      <th>3</th>\n",
              "      <td>PARTY BUNTING</td>\n",
              "      <td>98302.98</td>\n",
              "    </tr>\n",
              "    <tr>\n",
              "      <th>4</th>\n",
              "      <td>JUMBO BAG RED RETROSPOT</td>\n",
              "      <td>92356.03</td>\n",
              "    </tr>\n",
              "  </tbody>\n",
              "</table>\n",
              "</div>\n",
              "    <div class=\"colab-df-buttons\">\n",
              "\n",
              "  <div class=\"colab-df-container\">\n",
              "    <button class=\"colab-df-convert\" onclick=\"convertToInteractive('df-d4060d40-6eb1-400a-ac9c-33e41ac9e08b')\"\n",
              "            title=\"Convert this dataframe to an interactive table.\"\n",
              "            style=\"display:none;\">\n",
              "\n",
              "  <svg xmlns=\"http://www.w3.org/2000/svg\" height=\"24px\" viewBox=\"0 -960 960 960\">\n",
              "    <path d=\"M120-120v-720h720v720H120Zm60-500h600v-160H180v160Zm220 220h160v-160H400v160Zm0 220h160v-160H400v160ZM180-400h160v-160H180v160Zm440 0h160v-160H620v160ZM180-180h160v-160H180v160Zm440 0h160v-160H620v160Z\"/>\n",
              "  </svg>\n",
              "    </button>\n",
              "\n",
              "  <style>\n",
              "    .colab-df-container {\n",
              "      display:flex;\n",
              "      gap: 12px;\n",
              "    }\n",
              "\n",
              "    .colab-df-convert {\n",
              "      background-color: #E8F0FE;\n",
              "      border: none;\n",
              "      border-radius: 50%;\n",
              "      cursor: pointer;\n",
              "      display: none;\n",
              "      fill: #1967D2;\n",
              "      height: 32px;\n",
              "      padding: 0 0 0 0;\n",
              "      width: 32px;\n",
              "    }\n",
              "\n",
              "    .colab-df-convert:hover {\n",
              "      background-color: #E2EBFA;\n",
              "      box-shadow: 0px 1px 2px rgba(60, 64, 67, 0.3), 0px 1px 3px 1px rgba(60, 64, 67, 0.15);\n",
              "      fill: #174EA6;\n",
              "    }\n",
              "\n",
              "    .colab-df-buttons div {\n",
              "      margin-bottom: 4px;\n",
              "    }\n",
              "\n",
              "    [theme=dark] .colab-df-convert {\n",
              "      background-color: #3B4455;\n",
              "      fill: #D2E3FC;\n",
              "    }\n",
              "\n",
              "    [theme=dark] .colab-df-convert:hover {\n",
              "      background-color: #434B5C;\n",
              "      box-shadow: 0px 1px 3px 1px rgba(0, 0, 0, 0.15);\n",
              "      filter: drop-shadow(0px 1px 2px rgba(0, 0, 0, 0.3));\n",
              "      fill: #FFFFFF;\n",
              "    }\n",
              "  </style>\n",
              "\n",
              "    <script>\n",
              "      const buttonEl =\n",
              "        document.querySelector('#df-d4060d40-6eb1-400a-ac9c-33e41ac9e08b button.colab-df-convert');\n",
              "      buttonEl.style.display =\n",
              "        google.colab.kernel.accessAllowed ? 'block' : 'none';\n",
              "\n",
              "      async function convertToInteractive(key) {\n",
              "        const element = document.querySelector('#df-d4060d40-6eb1-400a-ac9c-33e41ac9e08b');\n",
              "        const dataTable =\n",
              "          await google.colab.kernel.invokeFunction('convertToInteractive',\n",
              "                                                    [key], {});\n",
              "        if (!dataTable) return;\n",
              "\n",
              "        const docLinkHtml = 'Like what you see? Visit the ' +\n",
              "          '<a target=\"_blank\" href=https://colab.research.google.com/notebooks/data_table.ipynb>data table notebook</a>'\n",
              "          + ' to learn more about interactive tables.';\n",
              "        element.innerHTML = '';\n",
              "        dataTable['output_type'] = 'display_data';\n",
              "        await google.colab.output.renderOutput(dataTable, element);\n",
              "        const docLink = document.createElement('div');\n",
              "        docLink.innerHTML = docLinkHtml;\n",
              "        element.appendChild(docLink);\n",
              "      }\n",
              "    </script>\n",
              "  </div>\n",
              "\n",
              "\n",
              "<div id=\"df-c9fc8025-3a23-49f6-b312-eff7cd1b534f\">\n",
              "  <button class=\"colab-df-quickchart\" onclick=\"quickchart('df-c9fc8025-3a23-49f6-b312-eff7cd1b534f')\"\n",
              "            title=\"Suggest charts\"\n",
              "            style=\"display:none;\">\n",
              "\n",
              "<svg xmlns=\"http://www.w3.org/2000/svg\" height=\"24px\"viewBox=\"0 0 24 24\"\n",
              "     width=\"24px\">\n",
              "    <g>\n",
              "        <path d=\"M19 3H5c-1.1 0-2 .9-2 2v14c0 1.1.9 2 2 2h14c1.1 0 2-.9 2-2V5c0-1.1-.9-2-2-2zM9 17H7v-7h2v7zm4 0h-2V7h2v10zm4 0h-2v-4h2v4z\"/>\n",
              "    </g>\n",
              "</svg>\n",
              "  </button>\n",
              "\n",
              "<style>\n",
              "  .colab-df-quickchart {\n",
              "      --bg-color: #E8F0FE;\n",
              "      --fill-color: #1967D2;\n",
              "      --hover-bg-color: #E2EBFA;\n",
              "      --hover-fill-color: #174EA6;\n",
              "      --disabled-fill-color: #AAA;\n",
              "      --disabled-bg-color: #DDD;\n",
              "  }\n",
              "\n",
              "  [theme=dark] .colab-df-quickchart {\n",
              "      --bg-color: #3B4455;\n",
              "      --fill-color: #D2E3FC;\n",
              "      --hover-bg-color: #434B5C;\n",
              "      --hover-fill-color: #FFFFFF;\n",
              "      --disabled-bg-color: #3B4455;\n",
              "      --disabled-fill-color: #666;\n",
              "  }\n",
              "\n",
              "  .colab-df-quickchart {\n",
              "    background-color: var(--bg-color);\n",
              "    border: none;\n",
              "    border-radius: 50%;\n",
              "    cursor: pointer;\n",
              "    display: none;\n",
              "    fill: var(--fill-color);\n",
              "    height: 32px;\n",
              "    padding: 0;\n",
              "    width: 32px;\n",
              "  }\n",
              "\n",
              "  .colab-df-quickchart:hover {\n",
              "    background-color: var(--hover-bg-color);\n",
              "    box-shadow: 0 1px 2px rgba(60, 64, 67, 0.3), 0 1px 3px 1px rgba(60, 64, 67, 0.15);\n",
              "    fill: var(--button-hover-fill-color);\n",
              "  }\n",
              "\n",
              "  .colab-df-quickchart-complete:disabled,\n",
              "  .colab-df-quickchart-complete:disabled:hover {\n",
              "    background-color: var(--disabled-bg-color);\n",
              "    fill: var(--disabled-fill-color);\n",
              "    box-shadow: none;\n",
              "  }\n",
              "\n",
              "  .colab-df-spinner {\n",
              "    border: 2px solid var(--fill-color);\n",
              "    border-color: transparent;\n",
              "    border-bottom-color: var(--fill-color);\n",
              "    animation:\n",
              "      spin 1s steps(1) infinite;\n",
              "  }\n",
              "\n",
              "  @keyframes spin {\n",
              "    0% {\n",
              "      border-color: transparent;\n",
              "      border-bottom-color: var(--fill-color);\n",
              "      border-left-color: var(--fill-color);\n",
              "    }\n",
              "    20% {\n",
              "      border-color: transparent;\n",
              "      border-left-color: var(--fill-color);\n",
              "      border-top-color: var(--fill-color);\n",
              "    }\n",
              "    30% {\n",
              "      border-color: transparent;\n",
              "      border-left-color: var(--fill-color);\n",
              "      border-top-color: var(--fill-color);\n",
              "      border-right-color: var(--fill-color);\n",
              "    }\n",
              "    40% {\n",
              "      border-color: transparent;\n",
              "      border-right-color: var(--fill-color);\n",
              "      border-top-color: var(--fill-color);\n",
              "    }\n",
              "    60% {\n",
              "      border-color: transparent;\n",
              "      border-right-color: var(--fill-color);\n",
              "    }\n",
              "    80% {\n",
              "      border-color: transparent;\n",
              "      border-right-color: var(--fill-color);\n",
              "      border-bottom-color: var(--fill-color);\n",
              "    }\n",
              "    90% {\n",
              "      border-color: transparent;\n",
              "      border-bottom-color: var(--fill-color);\n",
              "    }\n",
              "  }\n",
              "</style>\n",
              "\n",
              "  <script>\n",
              "    async function quickchart(key) {\n",
              "      const quickchartButtonEl =\n",
              "        document.querySelector('#' + key + ' button');\n",
              "      quickchartButtonEl.disabled = true;  // To prevent multiple clicks.\n",
              "      quickchartButtonEl.classList.add('colab-df-spinner');\n",
              "      try {\n",
              "        const charts = await google.colab.kernel.invokeFunction(\n",
              "            'suggestCharts', [key], {});\n",
              "      } catch (error) {\n",
              "        console.error('Error during call to suggestCharts:', error);\n",
              "      }\n",
              "      quickchartButtonEl.classList.remove('colab-df-spinner');\n",
              "      quickchartButtonEl.classList.add('colab-df-quickchart-complete');\n",
              "    }\n",
              "    (() => {\n",
              "      let quickchartButtonEl =\n",
              "        document.querySelector('#df-c9fc8025-3a23-49f6-b312-eff7cd1b534f button');\n",
              "      quickchartButtonEl.style.display =\n",
              "        google.colab.kernel.accessAllowed ? 'block' : 'none';\n",
              "    })();\n",
              "  </script>\n",
              "</div>\n",
              "    </div>\n",
              "  </div>\n"
            ],
            "application/vnd.google.colaboratory.intrinsic+json": {
              "type": "dataframe",
              "variable_name": "product_revenue",
              "summary": "{\n  \"name\": \"product_revenue\",\n  \"rows\": 5,\n  \"fields\": [\n    {\n      \"column\": \"Description\",\n      \"properties\": {\n        \"dtype\": \"string\",\n        \"samples\": [\n          \"REGENCY CAKESTAND 3 TIER\",\n          \"JUMBO BAG RED RETROSPOT\",\n          \"WHITE HANGING HEART T-LIGHT HOLDER\"\n        ],\n        \"num_unique_values\": 5,\n        \"semantic_type\": \"\",\n        \"description\": \"\"\n      }\n    },\n    {\n      \"column\": \"Revenue\",\n      \"properties\": {\n        \"dtype\": \"number\",\n        \"std\": 50837.626850847715,\n        \"min\": 92356.03000000204,\n        \"max\": 206245.48000000019,\n        \"samples\": [\n          164762.19,\n          92356.03000000204,\n          99668.46999999849\n        ],\n        \"num_unique_values\": 5,\n        \"semantic_type\": \"\",\n        \"description\": \"\"\n      }\n    }\n  ]\n}"
            }
          },
          "metadata": {},
          "execution_count": 18
        }
      ]
    },
    {
      "cell_type": "code",
      "source": [
        "for index, rows in product_revenue.iterrows():\n",
        "  tuple_product = (rows['Description'], rows['Revenue'])\n",
        "  sql_top_product_revenues.append(tuple_product)\n",
        "\n",
        "sql_top_product_revenues"
      ],
      "metadata": {
        "colab": {
          "base_uri": "https://localhost:8080/"
        },
        "id": "wSTM8pAK5nL1",
        "outputId": "2103ee64-a356-4621-9f5c-08d6f35b0959"
      },
      "id": "wSTM8pAK5nL1",
      "execution_count": 19,
      "outputs": [
        {
          "output_type": "execute_result",
          "data": {
            "text/plain": [
              "[('DOTCOM POSTAGE', 206245.48000000019),\n",
              " ('REGENCY CAKESTAND 3 TIER', 164762.19),\n",
              " ('WHITE HANGING HEART T-LIGHT HOLDER', 99668.46999999849),\n",
              " ('PARTY BUNTING', 98302.98000000048),\n",
              " ('JUMBO BAG RED RETROSPOT', 92356.03000000204)]"
            ]
          },
          "metadata": {},
          "execution_count": 19
        }
      ]
    },
    {
      "cell_type": "markdown",
      "source": [
        "#### 3. Identify the most profitable countries (by total sales), limited to top 5"
      ],
      "metadata": {
        "id": "7KAlWbKA1imQ"
      },
      "id": "7KAlWbKA1imQ"
    },
    {
      "cell_type": "code",
      "source": [
        "top_countries = pd.read_sql_query('''\n",
        "  SELECT\n",
        "    Country,\n",
        "    SUM(Quantity * UnitPrice) as Revenue\n",
        "  FROM\n",
        "    ecommerce\n",
        "  GROUP BY\n",
        "    Country\n",
        "  ORDER BY\n",
        "    Revenue DESC\n",
        "  LIMIT 5\n",
        "''', conn)\n",
        "\n",
        "top_countries"
      ],
      "metadata": {
        "colab": {
          "base_uri": "https://localhost:8080/",
          "height": 206
        },
        "id": "aDEqBSKr7IMw",
        "outputId": "ad175d01-2184-4b5a-db03-a28111834953"
      },
      "id": "aDEqBSKr7IMw",
      "execution_count": 20,
      "outputs": [
        {
          "output_type": "execute_result",
          "data": {
            "text/plain": [
              "          Country       Revenue\n",
              "0  United Kingdom  8.187806e+06\n",
              "1     Netherlands  2.846615e+05\n",
              "2            EIRE  2.632768e+05\n",
              "3         Germany  2.216982e+05\n",
              "4          France  1.974039e+05"
            ],
            "text/html": [
              "\n",
              "  <div id=\"df-dc582653-2751-4767-8821-86cba5673f5c\" class=\"colab-df-container\">\n",
              "    <div>\n",
              "<style scoped>\n",
              "    .dataframe tbody tr th:only-of-type {\n",
              "        vertical-align: middle;\n",
              "    }\n",
              "\n",
              "    .dataframe tbody tr th {\n",
              "        vertical-align: top;\n",
              "    }\n",
              "\n",
              "    .dataframe thead th {\n",
              "        text-align: right;\n",
              "    }\n",
              "</style>\n",
              "<table border=\"1\" class=\"dataframe\">\n",
              "  <thead>\n",
              "    <tr style=\"text-align: right;\">\n",
              "      <th></th>\n",
              "      <th>Country</th>\n",
              "      <th>Revenue</th>\n",
              "    </tr>\n",
              "  </thead>\n",
              "  <tbody>\n",
              "    <tr>\n",
              "      <th>0</th>\n",
              "      <td>United Kingdom</td>\n",
              "      <td>8.187806e+06</td>\n",
              "    </tr>\n",
              "    <tr>\n",
              "      <th>1</th>\n",
              "      <td>Netherlands</td>\n",
              "      <td>2.846615e+05</td>\n",
              "    </tr>\n",
              "    <tr>\n",
              "      <th>2</th>\n",
              "      <td>EIRE</td>\n",
              "      <td>2.632768e+05</td>\n",
              "    </tr>\n",
              "    <tr>\n",
              "      <th>3</th>\n",
              "      <td>Germany</td>\n",
              "      <td>2.216982e+05</td>\n",
              "    </tr>\n",
              "    <tr>\n",
              "      <th>4</th>\n",
              "      <td>France</td>\n",
              "      <td>1.974039e+05</td>\n",
              "    </tr>\n",
              "  </tbody>\n",
              "</table>\n",
              "</div>\n",
              "    <div class=\"colab-df-buttons\">\n",
              "\n",
              "  <div class=\"colab-df-container\">\n",
              "    <button class=\"colab-df-convert\" onclick=\"convertToInteractive('df-dc582653-2751-4767-8821-86cba5673f5c')\"\n",
              "            title=\"Convert this dataframe to an interactive table.\"\n",
              "            style=\"display:none;\">\n",
              "\n",
              "  <svg xmlns=\"http://www.w3.org/2000/svg\" height=\"24px\" viewBox=\"0 -960 960 960\">\n",
              "    <path d=\"M120-120v-720h720v720H120Zm60-500h600v-160H180v160Zm220 220h160v-160H400v160Zm0 220h160v-160H400v160ZM180-400h160v-160H180v160Zm440 0h160v-160H620v160ZM180-180h160v-160H180v160Zm440 0h160v-160H620v160Z\"/>\n",
              "  </svg>\n",
              "    </button>\n",
              "\n",
              "  <style>\n",
              "    .colab-df-container {\n",
              "      display:flex;\n",
              "      gap: 12px;\n",
              "    }\n",
              "\n",
              "    .colab-df-convert {\n",
              "      background-color: #E8F0FE;\n",
              "      border: none;\n",
              "      border-radius: 50%;\n",
              "      cursor: pointer;\n",
              "      display: none;\n",
              "      fill: #1967D2;\n",
              "      height: 32px;\n",
              "      padding: 0 0 0 0;\n",
              "      width: 32px;\n",
              "    }\n",
              "\n",
              "    .colab-df-convert:hover {\n",
              "      background-color: #E2EBFA;\n",
              "      box-shadow: 0px 1px 2px rgba(60, 64, 67, 0.3), 0px 1px 3px 1px rgba(60, 64, 67, 0.15);\n",
              "      fill: #174EA6;\n",
              "    }\n",
              "\n",
              "    .colab-df-buttons div {\n",
              "      margin-bottom: 4px;\n",
              "    }\n",
              "\n",
              "    [theme=dark] .colab-df-convert {\n",
              "      background-color: #3B4455;\n",
              "      fill: #D2E3FC;\n",
              "    }\n",
              "\n",
              "    [theme=dark] .colab-df-convert:hover {\n",
              "      background-color: #434B5C;\n",
              "      box-shadow: 0px 1px 3px 1px rgba(0, 0, 0, 0.15);\n",
              "      filter: drop-shadow(0px 1px 2px rgba(0, 0, 0, 0.3));\n",
              "      fill: #FFFFFF;\n",
              "    }\n",
              "  </style>\n",
              "\n",
              "    <script>\n",
              "      const buttonEl =\n",
              "        document.querySelector('#df-dc582653-2751-4767-8821-86cba5673f5c button.colab-df-convert');\n",
              "      buttonEl.style.display =\n",
              "        google.colab.kernel.accessAllowed ? 'block' : 'none';\n",
              "\n",
              "      async function convertToInteractive(key) {\n",
              "        const element = document.querySelector('#df-dc582653-2751-4767-8821-86cba5673f5c');\n",
              "        const dataTable =\n",
              "          await google.colab.kernel.invokeFunction('convertToInteractive',\n",
              "                                                    [key], {});\n",
              "        if (!dataTable) return;\n",
              "\n",
              "        const docLinkHtml = 'Like what you see? Visit the ' +\n",
              "          '<a target=\"_blank\" href=https://colab.research.google.com/notebooks/data_table.ipynb>data table notebook</a>'\n",
              "          + ' to learn more about interactive tables.';\n",
              "        element.innerHTML = '';\n",
              "        dataTable['output_type'] = 'display_data';\n",
              "        await google.colab.output.renderOutput(dataTable, element);\n",
              "        const docLink = document.createElement('div');\n",
              "        docLink.innerHTML = docLinkHtml;\n",
              "        element.appendChild(docLink);\n",
              "      }\n",
              "    </script>\n",
              "  </div>\n",
              "\n",
              "\n",
              "<div id=\"df-482bb433-68a3-45fc-ba5b-c33fe8af385a\">\n",
              "  <button class=\"colab-df-quickchart\" onclick=\"quickchart('df-482bb433-68a3-45fc-ba5b-c33fe8af385a')\"\n",
              "            title=\"Suggest charts\"\n",
              "            style=\"display:none;\">\n",
              "\n",
              "<svg xmlns=\"http://www.w3.org/2000/svg\" height=\"24px\"viewBox=\"0 0 24 24\"\n",
              "     width=\"24px\">\n",
              "    <g>\n",
              "        <path d=\"M19 3H5c-1.1 0-2 .9-2 2v14c0 1.1.9 2 2 2h14c1.1 0 2-.9 2-2V5c0-1.1-.9-2-2-2zM9 17H7v-7h2v7zm4 0h-2V7h2v10zm4 0h-2v-4h2v4z\"/>\n",
              "    </g>\n",
              "</svg>\n",
              "  </button>\n",
              "\n",
              "<style>\n",
              "  .colab-df-quickchart {\n",
              "      --bg-color: #E8F0FE;\n",
              "      --fill-color: #1967D2;\n",
              "      --hover-bg-color: #E2EBFA;\n",
              "      --hover-fill-color: #174EA6;\n",
              "      --disabled-fill-color: #AAA;\n",
              "      --disabled-bg-color: #DDD;\n",
              "  }\n",
              "\n",
              "  [theme=dark] .colab-df-quickchart {\n",
              "      --bg-color: #3B4455;\n",
              "      --fill-color: #D2E3FC;\n",
              "      --hover-bg-color: #434B5C;\n",
              "      --hover-fill-color: #FFFFFF;\n",
              "      --disabled-bg-color: #3B4455;\n",
              "      --disabled-fill-color: #666;\n",
              "  }\n",
              "\n",
              "  .colab-df-quickchart {\n",
              "    background-color: var(--bg-color);\n",
              "    border: none;\n",
              "    border-radius: 50%;\n",
              "    cursor: pointer;\n",
              "    display: none;\n",
              "    fill: var(--fill-color);\n",
              "    height: 32px;\n",
              "    padding: 0;\n",
              "    width: 32px;\n",
              "  }\n",
              "\n",
              "  .colab-df-quickchart:hover {\n",
              "    background-color: var(--hover-bg-color);\n",
              "    box-shadow: 0 1px 2px rgba(60, 64, 67, 0.3), 0 1px 3px 1px rgba(60, 64, 67, 0.15);\n",
              "    fill: var(--button-hover-fill-color);\n",
              "  }\n",
              "\n",
              "  .colab-df-quickchart-complete:disabled,\n",
              "  .colab-df-quickchart-complete:disabled:hover {\n",
              "    background-color: var(--disabled-bg-color);\n",
              "    fill: var(--disabled-fill-color);\n",
              "    box-shadow: none;\n",
              "  }\n",
              "\n",
              "  .colab-df-spinner {\n",
              "    border: 2px solid var(--fill-color);\n",
              "    border-color: transparent;\n",
              "    border-bottom-color: var(--fill-color);\n",
              "    animation:\n",
              "      spin 1s steps(1) infinite;\n",
              "  }\n",
              "\n",
              "  @keyframes spin {\n",
              "    0% {\n",
              "      border-color: transparent;\n",
              "      border-bottom-color: var(--fill-color);\n",
              "      border-left-color: var(--fill-color);\n",
              "    }\n",
              "    20% {\n",
              "      border-color: transparent;\n",
              "      border-left-color: var(--fill-color);\n",
              "      border-top-color: var(--fill-color);\n",
              "    }\n",
              "    30% {\n",
              "      border-color: transparent;\n",
              "      border-left-color: var(--fill-color);\n",
              "      border-top-color: var(--fill-color);\n",
              "      border-right-color: var(--fill-color);\n",
              "    }\n",
              "    40% {\n",
              "      border-color: transparent;\n",
              "      border-right-color: var(--fill-color);\n",
              "      border-top-color: var(--fill-color);\n",
              "    }\n",
              "    60% {\n",
              "      border-color: transparent;\n",
              "      border-right-color: var(--fill-color);\n",
              "    }\n",
              "    80% {\n",
              "      border-color: transparent;\n",
              "      border-right-color: var(--fill-color);\n",
              "      border-bottom-color: var(--fill-color);\n",
              "    }\n",
              "    90% {\n",
              "      border-color: transparent;\n",
              "      border-bottom-color: var(--fill-color);\n",
              "    }\n",
              "  }\n",
              "</style>\n",
              "\n",
              "  <script>\n",
              "    async function quickchart(key) {\n",
              "      const quickchartButtonEl =\n",
              "        document.querySelector('#' + key + ' button');\n",
              "      quickchartButtonEl.disabled = true;  // To prevent multiple clicks.\n",
              "      quickchartButtonEl.classList.add('colab-df-spinner');\n",
              "      try {\n",
              "        const charts = await google.colab.kernel.invokeFunction(\n",
              "            'suggestCharts', [key], {});\n",
              "      } catch (error) {\n",
              "        console.error('Error during call to suggestCharts:', error);\n",
              "      }\n",
              "      quickchartButtonEl.classList.remove('colab-df-spinner');\n",
              "      quickchartButtonEl.classList.add('colab-df-quickchart-complete');\n",
              "    }\n",
              "    (() => {\n",
              "      let quickchartButtonEl =\n",
              "        document.querySelector('#df-482bb433-68a3-45fc-ba5b-c33fe8af385a button');\n",
              "      quickchartButtonEl.style.display =\n",
              "        google.colab.kernel.accessAllowed ? 'block' : 'none';\n",
              "    })();\n",
              "  </script>\n",
              "</div>\n",
              "    </div>\n",
              "  </div>\n"
            ],
            "application/vnd.google.colaboratory.intrinsic+json": {
              "type": "dataframe",
              "variable_name": "top_countries",
              "summary": "{\n  \"name\": \"top_countries\",\n  \"rows\": 5,\n  \"fields\": [\n    {\n      \"column\": \"Country\",\n      \"properties\": {\n        \"dtype\": \"string\",\n        \"samples\": [\n          \"Netherlands\",\n          \"France\",\n          \"EIRE\"\n        ],\n        \"num_unique_values\": 5,\n        \"semantic_type\": \"\",\n        \"description\": \"\"\n      }\n    },\n    {\n      \"column\": \"Revenue\",\n      \"properties\": {\n        \"dtype\": \"number\",\n        \"std\": 3553744.3005909272,\n        \"min\": 197403.90000000002,\n        \"max\": 8187806.364001113,\n        \"samples\": [\n          284661.54000000015,\n          197403.90000000002,\n          263276.81999999826\n        ],\n        \"num_unique_values\": 5,\n        \"semantic_type\": \"\",\n        \"description\": \"\"\n      }\n    }\n  ]\n}"
            }
          },
          "metadata": {},
          "execution_count": 20
        }
      ]
    },
    {
      "cell_type": "code",
      "source": [
        "for index, rows in top_countries.iterrows():\n",
        "  tuple_country = (rows['Country'], rows['Revenue'])\n",
        "  sql_top_countries.append(tuple_country)\n",
        "\n",
        "sql_top_countries"
      ],
      "metadata": {
        "colab": {
          "base_uri": "https://localhost:8080/"
        },
        "id": "G5ah7Rnc7Yrn",
        "outputId": "cd217276-9ede-4d84-8bad-714aded8ec77"
      },
      "id": "G5ah7Rnc7Yrn",
      "execution_count": 21,
      "outputs": [
        {
          "output_type": "execute_result",
          "data": {
            "text/plain": [
              "[('United Kingdom', 8187806.364001113),\n",
              " ('Netherlands', 284661.54000000015),\n",
              " ('EIRE', 263276.81999999826),\n",
              " ('Germany', 221698.20999999862),\n",
              " ('France', 197403.90000000002)]"
            ]
          },
          "metadata": {},
          "execution_count": 21
        }
      ]
    },
    {
      "cell_type": "markdown",
      "source": [
        "#### 4. Find the top-selling products (by total sales) for each country, limited to top 5"
      ],
      "metadata": {
        "id": "xZvgN2J31nnV"
      },
      "id": "xZvgN2J31nnV"
    },
    {
      "cell_type": "code",
      "execution_count": 22,
      "id": "776308cd-3733-4767-95c3-fc9d3eda3cb7",
      "metadata": {
        "id": "776308cd-3733-4767-95c3-fc9d3eda3cb7"
      },
      "outputs": [],
      "source": [
        "# Example: sql_top_selling_products_by_country_by_sales = {\n",
        "#    'COUNTRY 1': [('COUNTRY 1 PRODUCT 1', 200000.00), ('COUNTRY 1 PRODUCT 2', 100000.00), ('COUNTRY 1 PRODUCT 3', 95348.00), ('COUNTRY 1 PRODUCT 4', 90000.43), ('COUNTRY 1 PRODUCT 5', 80000.00)],\n",
        "#    'COUNTRY 2': [('COUNTRY 2 PRODUCT 1', 9000.00), ('COUNTRY 2 PRODUCT 2', 7345.00), ('COUNTRY 2 PRODUCT 3', 6934.23), ('COUNTRY 2 PRODUCT 4', 6800.23), ('COUNTRY 2 PRODUCT 5', 4000.00)],\n",
        "#    ... to simplify, country 3 and 4 are not shown\n",
        "#    'COUNTRY 5': [('COUNTRY 5 PRODUCT 1', 7442.84), ('COUNTRY 5 PRODUCT 2', 5175.00), ('COUNTRY 5 PRODUCT 3', 3098.0), ('COUNTRY 5 PRODUCT 4', 3014.34), ('COUNTRY 5 PRODUCT 5', 2857.83)],"
      ]
    },
    {
      "cell_type": "code",
      "source": [
        "top_product_countries = pd.read_sql_query('''\n",
        "SELECT\n",
        "    rp.Country,\n",
        "    rp.Description,\n",
        "    rp.Revenue,\n",
        "    rp.ProductRank\n",
        "FROM (\n",
        "    SELECT\n",
        "        rp_sub.Country,\n",
        "        rp_sub.Description,\n",
        "        rp_sub.Revenue,\n",
        "        rp_sub.ProductRank,\n",
        "        rc.CountryRank\n",
        "    FROM (\n",
        "        SELECT\n",
        "            Country,\n",
        "            Description,\n",
        "            SUM(Quantity * UnitPrice) AS Revenue,\n",
        "            RANK() OVER (PARTITION BY Country ORDER BY SUM(Quantity * UnitPrice) DESC) AS ProductRank\n",
        "        FROM\n",
        "            ecommerce\n",
        "        GROUP BY\n",
        "            Country,\n",
        "            Description\n",
        "    ) rp_sub\n",
        "    JOIN (\n",
        "        SELECT\n",
        "            Country AS CountryAlias,\n",
        "            RANK() OVER (ORDER BY SUM(Quantity * UnitPrice) DESC) AS CountryRank\n",
        "        FROM\n",
        "            ecommerce\n",
        "        GROUP BY\n",
        "            Country\n",
        "    ) rc ON rp_sub.Country = rc.CountryAlias\n",
        "    WHERE\n",
        "        rc.CountryRank <= 5\n",
        ") rp\n",
        "WHERE\n",
        "    rp.ProductRank <= 5\n",
        "ORDER BY\n",
        "    rp.CountryRank,\n",
        "    rp.ProductRank;\n",
        "\n",
        "''', conn)\n",
        "\n",
        "top_product_countries"
      ],
      "metadata": {
        "colab": {
          "base_uri": "https://localhost:8080/",
          "height": 833
        },
        "id": "Qc-vqSzO75i3",
        "outputId": "382c1f8b-d7fd-41f4-99a0-9b2dda124784"
      },
      "id": "Qc-vqSzO75i3",
      "execution_count": 23,
      "outputs": [
        {
          "output_type": "execute_result",
          "data": {
            "text/plain": [
              "           Country                          Description    Revenue  \\\n",
              "0   United Kingdom                       DOTCOM POSTAGE  206245.48   \n",
              "1   United Kingdom             REGENCY CAKESTAND 3 TIER  134405.94   \n",
              "2   United Kingdom   WHITE HANGING HEART T-LIGHT HOLDER   93953.07   \n",
              "3   United Kingdom                        PARTY BUNTING   92501.73   \n",
              "4   United Kingdom              JUMBO BAG RED RETROSPOT   84516.44   \n",
              "5      Netherlands                   RABBIT NIGHT LIGHT    9568.48   \n",
              "6      Netherlands  ROUND SNACK BOXES SET OF4 WOODLAND     7991.40   \n",
              "7      Netherlands                  SPACEBOY LUNCH BOX     7485.60   \n",
              "8      Netherlands                 DOLLY GIRL LUNCH BOX    6828.60   \n",
              "9      Netherlands   ROUND SNACK BOXES SET OF 4 FRUITS     4039.20   \n",
              "10            EIRE             REGENCY CAKESTAND 3 TIER    7442.85   \n",
              "11            EIRE                             CARRIAGE    5175.00   \n",
              "12            EIRE             JAM MAKING SET WITH JARS    3089.00   \n",
              "13            EIRE        3 TIER CAKE TIN RED AND CREAM    3041.55   \n",
              "14            EIRE   WHITE HANGING HEART T-LIGHT HOLDER    2857.80   \n",
              "15         Germany                              POSTAGE   20821.00   \n",
              "16         Germany             REGENCY CAKESTAND 3 TIER    8257.35   \n",
              "17         Germany  ROUND SNACK BOXES SET OF4 WOODLAND     3554.70   \n",
              "18         Germany   ROUND SNACK BOXES SET OF 4 FRUITS     1949.95   \n",
              "19         Germany                  SPACEBOY LUNCH BOX     1629.45   \n",
              "20          France                              POSTAGE   15065.00   \n",
              "21          France                   RABBIT NIGHT LIGHT    7275.12   \n",
              "22          France             REGENCY CAKESTAND 3 TIER    2581.80   \n",
              "23          France        RED TOADSTOOL LED NIGHT LIGHT    2168.10   \n",
              "24          France     PLASTERS IN TIN WOODLAND ANIMALS    1868.40   \n",
              "\n",
              "    ProductRank  \n",
              "0             1  \n",
              "1             2  \n",
              "2             3  \n",
              "3             4  \n",
              "4             5  \n",
              "5             1  \n",
              "6             2  \n",
              "7             3  \n",
              "8             4  \n",
              "9             5  \n",
              "10            1  \n",
              "11            2  \n",
              "12            3  \n",
              "13            4  \n",
              "14            5  \n",
              "15            1  \n",
              "16            2  \n",
              "17            3  \n",
              "18            4  \n",
              "19            5  \n",
              "20            1  \n",
              "21            2  \n",
              "22            3  \n",
              "23            4  \n",
              "24            5  "
            ],
            "text/html": [
              "\n",
              "  <div id=\"df-ed67d69e-b5b8-4e7e-a7c8-f3e5a6790d5f\" class=\"colab-df-container\">\n",
              "    <div>\n",
              "<style scoped>\n",
              "    .dataframe tbody tr th:only-of-type {\n",
              "        vertical-align: middle;\n",
              "    }\n",
              "\n",
              "    .dataframe tbody tr th {\n",
              "        vertical-align: top;\n",
              "    }\n",
              "\n",
              "    .dataframe thead th {\n",
              "        text-align: right;\n",
              "    }\n",
              "</style>\n",
              "<table border=\"1\" class=\"dataframe\">\n",
              "  <thead>\n",
              "    <tr style=\"text-align: right;\">\n",
              "      <th></th>\n",
              "      <th>Country</th>\n",
              "      <th>Description</th>\n",
              "      <th>Revenue</th>\n",
              "      <th>ProductRank</th>\n",
              "    </tr>\n",
              "  </thead>\n",
              "  <tbody>\n",
              "    <tr>\n",
              "      <th>0</th>\n",
              "      <td>United Kingdom</td>\n",
              "      <td>DOTCOM POSTAGE</td>\n",
              "      <td>206245.48</td>\n",
              "      <td>1</td>\n",
              "    </tr>\n",
              "    <tr>\n",
              "      <th>1</th>\n",
              "      <td>United Kingdom</td>\n",
              "      <td>REGENCY CAKESTAND 3 TIER</td>\n",
              "      <td>134405.94</td>\n",
              "      <td>2</td>\n",
              "    </tr>\n",
              "    <tr>\n",
              "      <th>2</th>\n",
              "      <td>United Kingdom</td>\n",
              "      <td>WHITE HANGING HEART T-LIGHT HOLDER</td>\n",
              "      <td>93953.07</td>\n",
              "      <td>3</td>\n",
              "    </tr>\n",
              "    <tr>\n",
              "      <th>3</th>\n",
              "      <td>United Kingdom</td>\n",
              "      <td>PARTY BUNTING</td>\n",
              "      <td>92501.73</td>\n",
              "      <td>4</td>\n",
              "    </tr>\n",
              "    <tr>\n",
              "      <th>4</th>\n",
              "      <td>United Kingdom</td>\n",
              "      <td>JUMBO BAG RED RETROSPOT</td>\n",
              "      <td>84516.44</td>\n",
              "      <td>5</td>\n",
              "    </tr>\n",
              "    <tr>\n",
              "      <th>5</th>\n",
              "      <td>Netherlands</td>\n",
              "      <td>RABBIT NIGHT LIGHT</td>\n",
              "      <td>9568.48</td>\n",
              "      <td>1</td>\n",
              "    </tr>\n",
              "    <tr>\n",
              "      <th>6</th>\n",
              "      <td>Netherlands</td>\n",
              "      <td>ROUND SNACK BOXES SET OF4 WOODLAND</td>\n",
              "      <td>7991.40</td>\n",
              "      <td>2</td>\n",
              "    </tr>\n",
              "    <tr>\n",
              "      <th>7</th>\n",
              "      <td>Netherlands</td>\n",
              "      <td>SPACEBOY LUNCH BOX</td>\n",
              "      <td>7485.60</td>\n",
              "      <td>3</td>\n",
              "    </tr>\n",
              "    <tr>\n",
              "      <th>8</th>\n",
              "      <td>Netherlands</td>\n",
              "      <td>DOLLY GIRL LUNCH BOX</td>\n",
              "      <td>6828.60</td>\n",
              "      <td>4</td>\n",
              "    </tr>\n",
              "    <tr>\n",
              "      <th>9</th>\n",
              "      <td>Netherlands</td>\n",
              "      <td>ROUND SNACK BOXES SET OF 4 FRUITS</td>\n",
              "      <td>4039.20</td>\n",
              "      <td>5</td>\n",
              "    </tr>\n",
              "    <tr>\n",
              "      <th>10</th>\n",
              "      <td>EIRE</td>\n",
              "      <td>REGENCY CAKESTAND 3 TIER</td>\n",
              "      <td>7442.85</td>\n",
              "      <td>1</td>\n",
              "    </tr>\n",
              "    <tr>\n",
              "      <th>11</th>\n",
              "      <td>EIRE</td>\n",
              "      <td>CARRIAGE</td>\n",
              "      <td>5175.00</td>\n",
              "      <td>2</td>\n",
              "    </tr>\n",
              "    <tr>\n",
              "      <th>12</th>\n",
              "      <td>EIRE</td>\n",
              "      <td>JAM MAKING SET WITH JARS</td>\n",
              "      <td>3089.00</td>\n",
              "      <td>3</td>\n",
              "    </tr>\n",
              "    <tr>\n",
              "      <th>13</th>\n",
              "      <td>EIRE</td>\n",
              "      <td>3 TIER CAKE TIN RED AND CREAM</td>\n",
              "      <td>3041.55</td>\n",
              "      <td>4</td>\n",
              "    </tr>\n",
              "    <tr>\n",
              "      <th>14</th>\n",
              "      <td>EIRE</td>\n",
              "      <td>WHITE HANGING HEART T-LIGHT HOLDER</td>\n",
              "      <td>2857.80</td>\n",
              "      <td>5</td>\n",
              "    </tr>\n",
              "    <tr>\n",
              "      <th>15</th>\n",
              "      <td>Germany</td>\n",
              "      <td>POSTAGE</td>\n",
              "      <td>20821.00</td>\n",
              "      <td>1</td>\n",
              "    </tr>\n",
              "    <tr>\n",
              "      <th>16</th>\n",
              "      <td>Germany</td>\n",
              "      <td>REGENCY CAKESTAND 3 TIER</td>\n",
              "      <td>8257.35</td>\n",
              "      <td>2</td>\n",
              "    </tr>\n",
              "    <tr>\n",
              "      <th>17</th>\n",
              "      <td>Germany</td>\n",
              "      <td>ROUND SNACK BOXES SET OF4 WOODLAND</td>\n",
              "      <td>3554.70</td>\n",
              "      <td>3</td>\n",
              "    </tr>\n",
              "    <tr>\n",
              "      <th>18</th>\n",
              "      <td>Germany</td>\n",
              "      <td>ROUND SNACK BOXES SET OF 4 FRUITS</td>\n",
              "      <td>1949.95</td>\n",
              "      <td>4</td>\n",
              "    </tr>\n",
              "    <tr>\n",
              "      <th>19</th>\n",
              "      <td>Germany</td>\n",
              "      <td>SPACEBOY LUNCH BOX</td>\n",
              "      <td>1629.45</td>\n",
              "      <td>5</td>\n",
              "    </tr>\n",
              "    <tr>\n",
              "      <th>20</th>\n",
              "      <td>France</td>\n",
              "      <td>POSTAGE</td>\n",
              "      <td>15065.00</td>\n",
              "      <td>1</td>\n",
              "    </tr>\n",
              "    <tr>\n",
              "      <th>21</th>\n",
              "      <td>France</td>\n",
              "      <td>RABBIT NIGHT LIGHT</td>\n",
              "      <td>7275.12</td>\n",
              "      <td>2</td>\n",
              "    </tr>\n",
              "    <tr>\n",
              "      <th>22</th>\n",
              "      <td>France</td>\n",
              "      <td>REGENCY CAKESTAND 3 TIER</td>\n",
              "      <td>2581.80</td>\n",
              "      <td>3</td>\n",
              "    </tr>\n",
              "    <tr>\n",
              "      <th>23</th>\n",
              "      <td>France</td>\n",
              "      <td>RED TOADSTOOL LED NIGHT LIGHT</td>\n",
              "      <td>2168.10</td>\n",
              "      <td>4</td>\n",
              "    </tr>\n",
              "    <tr>\n",
              "      <th>24</th>\n",
              "      <td>France</td>\n",
              "      <td>PLASTERS IN TIN WOODLAND ANIMALS</td>\n",
              "      <td>1868.40</td>\n",
              "      <td>5</td>\n",
              "    </tr>\n",
              "  </tbody>\n",
              "</table>\n",
              "</div>\n",
              "    <div class=\"colab-df-buttons\">\n",
              "\n",
              "  <div class=\"colab-df-container\">\n",
              "    <button class=\"colab-df-convert\" onclick=\"convertToInteractive('df-ed67d69e-b5b8-4e7e-a7c8-f3e5a6790d5f')\"\n",
              "            title=\"Convert this dataframe to an interactive table.\"\n",
              "            style=\"display:none;\">\n",
              "\n",
              "  <svg xmlns=\"http://www.w3.org/2000/svg\" height=\"24px\" viewBox=\"0 -960 960 960\">\n",
              "    <path d=\"M120-120v-720h720v720H120Zm60-500h600v-160H180v160Zm220 220h160v-160H400v160Zm0 220h160v-160H400v160ZM180-400h160v-160H180v160Zm440 0h160v-160H620v160ZM180-180h160v-160H180v160Zm440 0h160v-160H620v160Z\"/>\n",
              "  </svg>\n",
              "    </button>\n",
              "\n",
              "  <style>\n",
              "    .colab-df-container {\n",
              "      display:flex;\n",
              "      gap: 12px;\n",
              "    }\n",
              "\n",
              "    .colab-df-convert {\n",
              "      background-color: #E8F0FE;\n",
              "      border: none;\n",
              "      border-radius: 50%;\n",
              "      cursor: pointer;\n",
              "      display: none;\n",
              "      fill: #1967D2;\n",
              "      height: 32px;\n",
              "      padding: 0 0 0 0;\n",
              "      width: 32px;\n",
              "    }\n",
              "\n",
              "    .colab-df-convert:hover {\n",
              "      background-color: #E2EBFA;\n",
              "      box-shadow: 0px 1px 2px rgba(60, 64, 67, 0.3), 0px 1px 3px 1px rgba(60, 64, 67, 0.15);\n",
              "      fill: #174EA6;\n",
              "    }\n",
              "\n",
              "    .colab-df-buttons div {\n",
              "      margin-bottom: 4px;\n",
              "    }\n",
              "\n",
              "    [theme=dark] .colab-df-convert {\n",
              "      background-color: #3B4455;\n",
              "      fill: #D2E3FC;\n",
              "    }\n",
              "\n",
              "    [theme=dark] .colab-df-convert:hover {\n",
              "      background-color: #434B5C;\n",
              "      box-shadow: 0px 1px 3px 1px rgba(0, 0, 0, 0.15);\n",
              "      filter: drop-shadow(0px 1px 2px rgba(0, 0, 0, 0.3));\n",
              "      fill: #FFFFFF;\n",
              "    }\n",
              "  </style>\n",
              "\n",
              "    <script>\n",
              "      const buttonEl =\n",
              "        document.querySelector('#df-ed67d69e-b5b8-4e7e-a7c8-f3e5a6790d5f button.colab-df-convert');\n",
              "      buttonEl.style.display =\n",
              "        google.colab.kernel.accessAllowed ? 'block' : 'none';\n",
              "\n",
              "      async function convertToInteractive(key) {\n",
              "        const element = document.querySelector('#df-ed67d69e-b5b8-4e7e-a7c8-f3e5a6790d5f');\n",
              "        const dataTable =\n",
              "          await google.colab.kernel.invokeFunction('convertToInteractive',\n",
              "                                                    [key], {});\n",
              "        if (!dataTable) return;\n",
              "\n",
              "        const docLinkHtml = 'Like what you see? Visit the ' +\n",
              "          '<a target=\"_blank\" href=https://colab.research.google.com/notebooks/data_table.ipynb>data table notebook</a>'\n",
              "          + ' to learn more about interactive tables.';\n",
              "        element.innerHTML = '';\n",
              "        dataTable['output_type'] = 'display_data';\n",
              "        await google.colab.output.renderOutput(dataTable, element);\n",
              "        const docLink = document.createElement('div');\n",
              "        docLink.innerHTML = docLinkHtml;\n",
              "        element.appendChild(docLink);\n",
              "      }\n",
              "    </script>\n",
              "  </div>\n",
              "\n",
              "\n",
              "<div id=\"df-ed639dfb-7d23-4dfb-9488-dd3fb67321c0\">\n",
              "  <button class=\"colab-df-quickchart\" onclick=\"quickchart('df-ed639dfb-7d23-4dfb-9488-dd3fb67321c0')\"\n",
              "            title=\"Suggest charts\"\n",
              "            style=\"display:none;\">\n",
              "\n",
              "<svg xmlns=\"http://www.w3.org/2000/svg\" height=\"24px\"viewBox=\"0 0 24 24\"\n",
              "     width=\"24px\">\n",
              "    <g>\n",
              "        <path d=\"M19 3H5c-1.1 0-2 .9-2 2v14c0 1.1.9 2 2 2h14c1.1 0 2-.9 2-2V5c0-1.1-.9-2-2-2zM9 17H7v-7h2v7zm4 0h-2V7h2v10zm4 0h-2v-4h2v4z\"/>\n",
              "    </g>\n",
              "</svg>\n",
              "  </button>\n",
              "\n",
              "<style>\n",
              "  .colab-df-quickchart {\n",
              "      --bg-color: #E8F0FE;\n",
              "      --fill-color: #1967D2;\n",
              "      --hover-bg-color: #E2EBFA;\n",
              "      --hover-fill-color: #174EA6;\n",
              "      --disabled-fill-color: #AAA;\n",
              "      --disabled-bg-color: #DDD;\n",
              "  }\n",
              "\n",
              "  [theme=dark] .colab-df-quickchart {\n",
              "      --bg-color: #3B4455;\n",
              "      --fill-color: #D2E3FC;\n",
              "      --hover-bg-color: #434B5C;\n",
              "      --hover-fill-color: #FFFFFF;\n",
              "      --disabled-bg-color: #3B4455;\n",
              "      --disabled-fill-color: #666;\n",
              "  }\n",
              "\n",
              "  .colab-df-quickchart {\n",
              "    background-color: var(--bg-color);\n",
              "    border: none;\n",
              "    border-radius: 50%;\n",
              "    cursor: pointer;\n",
              "    display: none;\n",
              "    fill: var(--fill-color);\n",
              "    height: 32px;\n",
              "    padding: 0;\n",
              "    width: 32px;\n",
              "  }\n",
              "\n",
              "  .colab-df-quickchart:hover {\n",
              "    background-color: var(--hover-bg-color);\n",
              "    box-shadow: 0 1px 2px rgba(60, 64, 67, 0.3), 0 1px 3px 1px rgba(60, 64, 67, 0.15);\n",
              "    fill: var(--button-hover-fill-color);\n",
              "  }\n",
              "\n",
              "  .colab-df-quickchart-complete:disabled,\n",
              "  .colab-df-quickchart-complete:disabled:hover {\n",
              "    background-color: var(--disabled-bg-color);\n",
              "    fill: var(--disabled-fill-color);\n",
              "    box-shadow: none;\n",
              "  }\n",
              "\n",
              "  .colab-df-spinner {\n",
              "    border: 2px solid var(--fill-color);\n",
              "    border-color: transparent;\n",
              "    border-bottom-color: var(--fill-color);\n",
              "    animation:\n",
              "      spin 1s steps(1) infinite;\n",
              "  }\n",
              "\n",
              "  @keyframes spin {\n",
              "    0% {\n",
              "      border-color: transparent;\n",
              "      border-bottom-color: var(--fill-color);\n",
              "      border-left-color: var(--fill-color);\n",
              "    }\n",
              "    20% {\n",
              "      border-color: transparent;\n",
              "      border-left-color: var(--fill-color);\n",
              "      border-top-color: var(--fill-color);\n",
              "    }\n",
              "    30% {\n",
              "      border-color: transparent;\n",
              "      border-left-color: var(--fill-color);\n",
              "      border-top-color: var(--fill-color);\n",
              "      border-right-color: var(--fill-color);\n",
              "    }\n",
              "    40% {\n",
              "      border-color: transparent;\n",
              "      border-right-color: var(--fill-color);\n",
              "      border-top-color: var(--fill-color);\n",
              "    }\n",
              "    60% {\n",
              "      border-color: transparent;\n",
              "      border-right-color: var(--fill-color);\n",
              "    }\n",
              "    80% {\n",
              "      border-color: transparent;\n",
              "      border-right-color: var(--fill-color);\n",
              "      border-bottom-color: var(--fill-color);\n",
              "    }\n",
              "    90% {\n",
              "      border-color: transparent;\n",
              "      border-bottom-color: var(--fill-color);\n",
              "    }\n",
              "  }\n",
              "</style>\n",
              "\n",
              "  <script>\n",
              "    async function quickchart(key) {\n",
              "      const quickchartButtonEl =\n",
              "        document.querySelector('#' + key + ' button');\n",
              "      quickchartButtonEl.disabled = true;  // To prevent multiple clicks.\n",
              "      quickchartButtonEl.classList.add('colab-df-spinner');\n",
              "      try {\n",
              "        const charts = await google.colab.kernel.invokeFunction(\n",
              "            'suggestCharts', [key], {});\n",
              "      } catch (error) {\n",
              "        console.error('Error during call to suggestCharts:', error);\n",
              "      }\n",
              "      quickchartButtonEl.classList.remove('colab-df-spinner');\n",
              "      quickchartButtonEl.classList.add('colab-df-quickchart-complete');\n",
              "    }\n",
              "    (() => {\n",
              "      let quickchartButtonEl =\n",
              "        document.querySelector('#df-ed639dfb-7d23-4dfb-9488-dd3fb67321c0 button');\n",
              "      quickchartButtonEl.style.display =\n",
              "        google.colab.kernel.accessAllowed ? 'block' : 'none';\n",
              "    })();\n",
              "  </script>\n",
              "</div>\n",
              "    </div>\n",
              "  </div>\n"
            ],
            "application/vnd.google.colaboratory.intrinsic+json": {
              "type": "dataframe",
              "variable_name": "top_product_countries",
              "summary": "{\n  \"name\": \"top_product_countries\",\n  \"rows\": 25,\n  \"fields\": [\n    {\n      \"column\": \"Country\",\n      \"properties\": {\n        \"dtype\": \"category\",\n        \"samples\": [\n          \"Netherlands\",\n          \"France\",\n          \"EIRE\"\n        ],\n        \"num_unique_values\": 5,\n        \"semantic_type\": \"\",\n        \"description\": \"\"\n      }\n    },\n    {\n      \"column\": \"Description\",\n      \"properties\": {\n        \"dtype\": \"string\",\n        \"samples\": [\n          \"DOTCOM POSTAGE\",\n          \"REGENCY CAKESTAND 3 TIER\",\n          \"RABBIT NIGHT LIGHT\"\n        ],\n        \"num_unique_values\": 16,\n        \"semantic_type\": \"\",\n        \"description\": \"\"\n      }\n    },\n    {\n      \"column\": \"Revenue\",\n      \"properties\": {\n        \"dtype\": \"number\",\n        \"std\": 51945.23276162773,\n        \"min\": 1629.45,\n        \"max\": 206245.48000000019,\n        \"samples\": [\n          6828.599999999999,\n          8257.349999999997,\n          206245.48000000019\n        ],\n        \"num_unique_values\": 25,\n        \"semantic_type\": \"\",\n        \"description\": \"\"\n      }\n    },\n    {\n      \"column\": \"ProductRank\",\n      \"properties\": {\n        \"dtype\": \"number\",\n        \"std\": 1,\n        \"min\": 1,\n        \"max\": 5,\n        \"samples\": [\n          2,\n          5,\n          3\n        ],\n        \"num_unique_values\": 5,\n        \"semantic_type\": \"\",\n        \"description\": \"\"\n      }\n    }\n  ]\n}"
            }
          },
          "metadata": {},
          "execution_count": 23
        }
      ]
    },
    {
      "cell_type": "code",
      "source": [
        "selected_country = ''\n",
        "\n",
        "for index, rows in top_product_countries.iterrows():\n",
        "  if rows[\"Country\"] != selected_country:\n",
        "    sql_top_selling_products_by_country_by_sales[rows[\"Country\"]] = []\n",
        "    selected_country = rows[\"Country\"]\n",
        "  tuple_country = (rows['Description'], rows['Revenue'])\n",
        "  sql_top_selling_products_by_country_by_sales[rows[\"Country\"]].append(tuple_country)"
      ],
      "metadata": {
        "id": "g98OKYNRAi2I"
      },
      "id": "g98OKYNRAi2I",
      "execution_count": 24,
      "outputs": []
    },
    {
      "cell_type": "code",
      "source": [
        "sql_top_selling_products_by_country_by_sales"
      ],
      "metadata": {
        "colab": {
          "base_uri": "https://localhost:8080/"
        },
        "id": "8t7k_Iw4EW_l",
        "outputId": "c9330493-b6bd-4e6e-8710-fcf995fab04f"
      },
      "id": "8t7k_Iw4EW_l",
      "execution_count": 25,
      "outputs": [
        {
          "output_type": "execute_result",
          "data": {
            "text/plain": [
              "{'United Kingdom': [('DOTCOM POSTAGE', 206245.48000000019),\n",
              "  ('REGENCY CAKESTAND 3 TIER', 134405.93999999992),\n",
              "  ('WHITE HANGING HEART T-LIGHT HOLDER', 93953.0699999987),\n",
              "  ('PARTY BUNTING', 92501.73000000033),\n",
              "  ('JUMBO BAG RED RETROSPOT', 84516.44000000166)],\n",
              " 'Netherlands': [('RABBIT NIGHT LIGHT', 9568.48),\n",
              "  ('ROUND SNACK BOXES SET OF4 WOODLAND ', 7991.400000000001),\n",
              "  ('SPACEBOY LUNCH BOX ', 7485.5999999999985),\n",
              "  ('DOLLY GIRL LUNCH BOX', 6828.599999999999),\n",
              "  ('ROUND SNACK BOXES SET OF 4 FRUITS ', 4039.2000000000007)],\n",
              " 'EIRE': [('REGENCY CAKESTAND 3 TIER', 7442.849999999997),\n",
              "  ('CARRIAGE', 5175.0),\n",
              "  ('JAM MAKING SET WITH JARS', 3089.0),\n",
              "  ('3 TIER CAKE TIN RED AND CREAM', 3041.5499999999997),\n",
              "  ('WHITE HANGING HEART T-LIGHT HOLDER', 2857.8)],\n",
              " 'Germany': [('POSTAGE', 20821.0),\n",
              "  ('REGENCY CAKESTAND 3 TIER', 8257.349999999997),\n",
              "  ('ROUND SNACK BOXES SET OF4 WOODLAND ', 3554.6999999999985),\n",
              "  ('ROUND SNACK BOXES SET OF 4 FRUITS ', 1949.9500000000016),\n",
              "  ('SPACEBOY LUNCH BOX ', 1629.45)],\n",
              " 'France': [('POSTAGE', 15065.0),\n",
              "  ('RABBIT NIGHT LIGHT', 7275.119999999999),\n",
              "  ('REGENCY CAKESTAND 3 TIER', 2581.7999999999997),\n",
              "  ('RED TOADSTOOL LED NIGHT LIGHT', 2168.099999999999),\n",
              "  ('PLASTERS IN TIN WOODLAND ANIMALS', 1868.3999999999978)]}"
            ]
          },
          "metadata": {},
          "execution_count": 25
        }
      ]
    },
    {
      "cell_type": "markdown",
      "source": [
        "#### 5. Find the top-selling products (by quantity) for each country, limited to top 5"
      ],
      "metadata": {
        "id": "cj72PhRy1pH9"
      },
      "id": "cj72PhRy1pH9"
    },
    {
      "cell_type": "code",
      "execution_count": 26,
      "id": "54adc06d-fe7d-468c-8515-0b9f52170cf8",
      "metadata": {
        "id": "54adc06d-fe7d-468c-8515-0b9f52170cf8"
      },
      "outputs": [],
      "source": [
        "# Example: sql_top_selling_products_by_country_by_quantity = {\n",
        "#    'COUNTRY 1': [('COUNTRY 1 PRODUCT 1', 22343), ('COUNTRY 1 PRODUCT 2', 12345), ('COUNTRY 1 PRODUCT 3', 9534), ('COUNTRY 1 PRODUCT 4', 9000), ('COUNTRY 1 PRODUCT 5', 8000)],\n",
        "#    'COUNTRY 2': [('COUNTRY 2 PRODUCT 1', 9000), ('COUNTRY 2 PRODUCT 2', 7345), ('COUNTRY 2 PRODUCT 3', 6934), ('COUNTRY 2 PRODUCT 4', 6800), ('COUNTRY 2 PRODUCT 5', 4000)],\n",
        "#    ... to simplify, country 3 and 4 are not shown\n",
        "#    'COUNTRY 5': [('COUNTRY 5 PRODUCT 1', 48345), ('COUNTRY 5 PRODUCT 2', 43965), ('COUNTRY 5 PRODUCT 3', 43556), ('COUNTRY 5 PRODUCT 4', 34567), ('COUNTRY 5 PRODUCT 5', 33436)],\n",
        "\n",
        "\n"
      ]
    },
    {
      "cell_type": "code",
      "source": [
        "top_product_countries = pd.read_sql_query('''\n",
        "SELECT\n",
        "    rp.Country,\n",
        "    rp.Description,\n",
        "    rp.Quantity,\n",
        "    rp.ProductRank\n",
        "FROM (\n",
        "    SELECT\n",
        "        rp_sub.Country,\n",
        "        rp_sub.Description,\n",
        "        rp_sub.Quantity,\n",
        "        rp_sub.ProductRank,\n",
        "        rc.CountryRank\n",
        "    FROM (\n",
        "        SELECT\n",
        "            Country,\n",
        "            Description,\n",
        "            SUM(Quantity) as Quantity,\n",
        "            RANK() OVER (PARTITION BY Country ORDER BY SUM(Quantity) DESC) AS ProductRank\n",
        "        FROM\n",
        "            ecommerce\n",
        "        GROUP BY\n",
        "            Country,\n",
        "            Description\n",
        "    ) rp_sub\n",
        "    JOIN (\n",
        "        SELECT\n",
        "            Country AS CountryAlias,\n",
        "            RANK() OVER (ORDER BY SUM(Quantity) DESC) AS CountryRank\n",
        "        FROM\n",
        "            ecommerce\n",
        "        GROUP BY\n",
        "            Country\n",
        "    ) rc ON rp_sub.Country = rc.CountryAlias\n",
        "    WHERE\n",
        "        rc.CountryRank <= 5\n",
        ") rp\n",
        "WHERE\n",
        "    rp.ProductRank <= 5\n",
        "ORDER BY\n",
        "    rp.CountryRank,\n",
        "    rp.ProductRank;\n",
        "\n",
        "''', conn)\n",
        "\n",
        "top_product_countries"
      ],
      "metadata": {
        "colab": {
          "base_uri": "https://localhost:8080/",
          "height": 833
        },
        "id": "jvmVSMQvAmJp",
        "outputId": "046f2c1b-bf2b-4e2b-ca82-3a5ee1173dad"
      },
      "id": "jvmVSMQvAmJp",
      "execution_count": 27,
      "outputs": [
        {
          "output_type": "execute_result",
          "data": {
            "text/plain": [
              "           Country                          Description  Quantity  ProductRank\n",
              "0   United Kingdom    WORLD WAR 2 GLIDERS ASSTD DESIGNS     48326            1\n",
              "1   United Kingdom              JUMBO BAG RED RETROSPOT     43167            2\n",
              "2   United Kingdom                       POPCORN HOLDER     34365            3\n",
              "3   United Kingdom        ASSORTED COLOUR BIRD ORNAMENT     33679            4\n",
              "4   United Kingdom   WHITE HANGING HEART T-LIGHT HOLDER     33193            5\n",
              "5      Netherlands                   RABBIT NIGHT LIGHT      4801            1\n",
              "6      Netherlands                  SPACEBOY LUNCH BOX       4528            2\n",
              "7      Netherlands                 DOLLY GIRL LUNCH BOX      4132            3\n",
              "8      Netherlands      PACK OF 72 RETROSPOT CAKE CASES      4128            4\n",
              "9      Netherlands  ROUND SNACK BOXES SET OF4 WOODLAND       3132            5\n",
              "10            EIRE      PACK OF 72 RETROSPOT CAKE CASES      1728            1\n",
              "11            EIRE          60 TEATIME FAIRY CAKE CASES      1536            2\n",
              "12            EIRE                   VINTAGE SNAP CARDS      1492            3\n",
              "13            EIRE                ASSORTED INCENSE PACK      1440            4\n",
              "14            EIRE   PACK OF 60 PINK PAISLEY CAKE CASES      1296            5\n",
              "15         Germany  ROUND SNACK BOXES SET OF4 WOODLAND       1218            1\n",
              "16         Germany            ASSORTED COLOURS SILK FAN      1164            2\n",
              "17         Germany                              POSTAGE      1104            3\n",
              "18         Germany               WOODLAND CHARLOTTE BAG      1019            4\n",
              "19         Germany      PACK OF 72 RETROSPOT CAKE CASES      1002            5\n",
              "20          France                   RABBIT NIGHT LIGHT      4023            1\n",
              "21          France              MINI PAINT SET VINTAGE       2196            2\n",
              "22          France        RED TOADSTOOL LED NIGHT LIGHT      1314            3\n",
              "23          France          SET/6 RED SPOTTY PAPER CUPS      1272            4\n",
              "24          France        ASSORTED COLOUR BIRD ORNAMENT      1204            5"
            ],
            "text/html": [
              "\n",
              "  <div id=\"df-30c46e24-2a02-48bd-b9aa-7718395e6aae\" class=\"colab-df-container\">\n",
              "    <div>\n",
              "<style scoped>\n",
              "    .dataframe tbody tr th:only-of-type {\n",
              "        vertical-align: middle;\n",
              "    }\n",
              "\n",
              "    .dataframe tbody tr th {\n",
              "        vertical-align: top;\n",
              "    }\n",
              "\n",
              "    .dataframe thead th {\n",
              "        text-align: right;\n",
              "    }\n",
              "</style>\n",
              "<table border=\"1\" class=\"dataframe\">\n",
              "  <thead>\n",
              "    <tr style=\"text-align: right;\">\n",
              "      <th></th>\n",
              "      <th>Country</th>\n",
              "      <th>Description</th>\n",
              "      <th>Quantity</th>\n",
              "      <th>ProductRank</th>\n",
              "    </tr>\n",
              "  </thead>\n",
              "  <tbody>\n",
              "    <tr>\n",
              "      <th>0</th>\n",
              "      <td>United Kingdom</td>\n",
              "      <td>WORLD WAR 2 GLIDERS ASSTD DESIGNS</td>\n",
              "      <td>48326</td>\n",
              "      <td>1</td>\n",
              "    </tr>\n",
              "    <tr>\n",
              "      <th>1</th>\n",
              "      <td>United Kingdom</td>\n",
              "      <td>JUMBO BAG RED RETROSPOT</td>\n",
              "      <td>43167</td>\n",
              "      <td>2</td>\n",
              "    </tr>\n",
              "    <tr>\n",
              "      <th>2</th>\n",
              "      <td>United Kingdom</td>\n",
              "      <td>POPCORN HOLDER</td>\n",
              "      <td>34365</td>\n",
              "      <td>3</td>\n",
              "    </tr>\n",
              "    <tr>\n",
              "      <th>3</th>\n",
              "      <td>United Kingdom</td>\n",
              "      <td>ASSORTED COLOUR BIRD ORNAMENT</td>\n",
              "      <td>33679</td>\n",
              "      <td>4</td>\n",
              "    </tr>\n",
              "    <tr>\n",
              "      <th>4</th>\n",
              "      <td>United Kingdom</td>\n",
              "      <td>WHITE HANGING HEART T-LIGHT HOLDER</td>\n",
              "      <td>33193</td>\n",
              "      <td>5</td>\n",
              "    </tr>\n",
              "    <tr>\n",
              "      <th>5</th>\n",
              "      <td>Netherlands</td>\n",
              "      <td>RABBIT NIGHT LIGHT</td>\n",
              "      <td>4801</td>\n",
              "      <td>1</td>\n",
              "    </tr>\n",
              "    <tr>\n",
              "      <th>6</th>\n",
              "      <td>Netherlands</td>\n",
              "      <td>SPACEBOY LUNCH BOX</td>\n",
              "      <td>4528</td>\n",
              "      <td>2</td>\n",
              "    </tr>\n",
              "    <tr>\n",
              "      <th>7</th>\n",
              "      <td>Netherlands</td>\n",
              "      <td>DOLLY GIRL LUNCH BOX</td>\n",
              "      <td>4132</td>\n",
              "      <td>3</td>\n",
              "    </tr>\n",
              "    <tr>\n",
              "      <th>8</th>\n",
              "      <td>Netherlands</td>\n",
              "      <td>PACK OF 72 RETROSPOT CAKE CASES</td>\n",
              "      <td>4128</td>\n",
              "      <td>4</td>\n",
              "    </tr>\n",
              "    <tr>\n",
              "      <th>9</th>\n",
              "      <td>Netherlands</td>\n",
              "      <td>ROUND SNACK BOXES SET OF4 WOODLAND</td>\n",
              "      <td>3132</td>\n",
              "      <td>5</td>\n",
              "    </tr>\n",
              "    <tr>\n",
              "      <th>10</th>\n",
              "      <td>EIRE</td>\n",
              "      <td>PACK OF 72 RETROSPOT CAKE CASES</td>\n",
              "      <td>1728</td>\n",
              "      <td>1</td>\n",
              "    </tr>\n",
              "    <tr>\n",
              "      <th>11</th>\n",
              "      <td>EIRE</td>\n",
              "      <td>60 TEATIME FAIRY CAKE CASES</td>\n",
              "      <td>1536</td>\n",
              "      <td>2</td>\n",
              "    </tr>\n",
              "    <tr>\n",
              "      <th>12</th>\n",
              "      <td>EIRE</td>\n",
              "      <td>VINTAGE SNAP CARDS</td>\n",
              "      <td>1492</td>\n",
              "      <td>3</td>\n",
              "    </tr>\n",
              "    <tr>\n",
              "      <th>13</th>\n",
              "      <td>EIRE</td>\n",
              "      <td>ASSORTED INCENSE PACK</td>\n",
              "      <td>1440</td>\n",
              "      <td>4</td>\n",
              "    </tr>\n",
              "    <tr>\n",
              "      <th>14</th>\n",
              "      <td>EIRE</td>\n",
              "      <td>PACK OF 60 PINK PAISLEY CAKE CASES</td>\n",
              "      <td>1296</td>\n",
              "      <td>5</td>\n",
              "    </tr>\n",
              "    <tr>\n",
              "      <th>15</th>\n",
              "      <td>Germany</td>\n",
              "      <td>ROUND SNACK BOXES SET OF4 WOODLAND</td>\n",
              "      <td>1218</td>\n",
              "      <td>1</td>\n",
              "    </tr>\n",
              "    <tr>\n",
              "      <th>16</th>\n",
              "      <td>Germany</td>\n",
              "      <td>ASSORTED COLOURS SILK FAN</td>\n",
              "      <td>1164</td>\n",
              "      <td>2</td>\n",
              "    </tr>\n",
              "    <tr>\n",
              "      <th>17</th>\n",
              "      <td>Germany</td>\n",
              "      <td>POSTAGE</td>\n",
              "      <td>1104</td>\n",
              "      <td>3</td>\n",
              "    </tr>\n",
              "    <tr>\n",
              "      <th>18</th>\n",
              "      <td>Germany</td>\n",
              "      <td>WOODLAND CHARLOTTE BAG</td>\n",
              "      <td>1019</td>\n",
              "      <td>4</td>\n",
              "    </tr>\n",
              "    <tr>\n",
              "      <th>19</th>\n",
              "      <td>Germany</td>\n",
              "      <td>PACK OF 72 RETROSPOT CAKE CASES</td>\n",
              "      <td>1002</td>\n",
              "      <td>5</td>\n",
              "    </tr>\n",
              "    <tr>\n",
              "      <th>20</th>\n",
              "      <td>France</td>\n",
              "      <td>RABBIT NIGHT LIGHT</td>\n",
              "      <td>4023</td>\n",
              "      <td>1</td>\n",
              "    </tr>\n",
              "    <tr>\n",
              "      <th>21</th>\n",
              "      <td>France</td>\n",
              "      <td>MINI PAINT SET VINTAGE</td>\n",
              "      <td>2196</td>\n",
              "      <td>2</td>\n",
              "    </tr>\n",
              "    <tr>\n",
              "      <th>22</th>\n",
              "      <td>France</td>\n",
              "      <td>RED TOADSTOOL LED NIGHT LIGHT</td>\n",
              "      <td>1314</td>\n",
              "      <td>3</td>\n",
              "    </tr>\n",
              "    <tr>\n",
              "      <th>23</th>\n",
              "      <td>France</td>\n",
              "      <td>SET/6 RED SPOTTY PAPER CUPS</td>\n",
              "      <td>1272</td>\n",
              "      <td>4</td>\n",
              "    </tr>\n",
              "    <tr>\n",
              "      <th>24</th>\n",
              "      <td>France</td>\n",
              "      <td>ASSORTED COLOUR BIRD ORNAMENT</td>\n",
              "      <td>1204</td>\n",
              "      <td>5</td>\n",
              "    </tr>\n",
              "  </tbody>\n",
              "</table>\n",
              "</div>\n",
              "    <div class=\"colab-df-buttons\">\n",
              "\n",
              "  <div class=\"colab-df-container\">\n",
              "    <button class=\"colab-df-convert\" onclick=\"convertToInteractive('df-30c46e24-2a02-48bd-b9aa-7718395e6aae')\"\n",
              "            title=\"Convert this dataframe to an interactive table.\"\n",
              "            style=\"display:none;\">\n",
              "\n",
              "  <svg xmlns=\"http://www.w3.org/2000/svg\" height=\"24px\" viewBox=\"0 -960 960 960\">\n",
              "    <path d=\"M120-120v-720h720v720H120Zm60-500h600v-160H180v160Zm220 220h160v-160H400v160Zm0 220h160v-160H400v160ZM180-400h160v-160H180v160Zm440 0h160v-160H620v160ZM180-180h160v-160H180v160Zm440 0h160v-160H620v160Z\"/>\n",
              "  </svg>\n",
              "    </button>\n",
              "\n",
              "  <style>\n",
              "    .colab-df-container {\n",
              "      display:flex;\n",
              "      gap: 12px;\n",
              "    }\n",
              "\n",
              "    .colab-df-convert {\n",
              "      background-color: #E8F0FE;\n",
              "      border: none;\n",
              "      border-radius: 50%;\n",
              "      cursor: pointer;\n",
              "      display: none;\n",
              "      fill: #1967D2;\n",
              "      height: 32px;\n",
              "      padding: 0 0 0 0;\n",
              "      width: 32px;\n",
              "    }\n",
              "\n",
              "    .colab-df-convert:hover {\n",
              "      background-color: #E2EBFA;\n",
              "      box-shadow: 0px 1px 2px rgba(60, 64, 67, 0.3), 0px 1px 3px 1px rgba(60, 64, 67, 0.15);\n",
              "      fill: #174EA6;\n",
              "    }\n",
              "\n",
              "    .colab-df-buttons div {\n",
              "      margin-bottom: 4px;\n",
              "    }\n",
              "\n",
              "    [theme=dark] .colab-df-convert {\n",
              "      background-color: #3B4455;\n",
              "      fill: #D2E3FC;\n",
              "    }\n",
              "\n",
              "    [theme=dark] .colab-df-convert:hover {\n",
              "      background-color: #434B5C;\n",
              "      box-shadow: 0px 1px 3px 1px rgba(0, 0, 0, 0.15);\n",
              "      filter: drop-shadow(0px 1px 2px rgba(0, 0, 0, 0.3));\n",
              "      fill: #FFFFFF;\n",
              "    }\n",
              "  </style>\n",
              "\n",
              "    <script>\n",
              "      const buttonEl =\n",
              "        document.querySelector('#df-30c46e24-2a02-48bd-b9aa-7718395e6aae button.colab-df-convert');\n",
              "      buttonEl.style.display =\n",
              "        google.colab.kernel.accessAllowed ? 'block' : 'none';\n",
              "\n",
              "      async function convertToInteractive(key) {\n",
              "        const element = document.querySelector('#df-30c46e24-2a02-48bd-b9aa-7718395e6aae');\n",
              "        const dataTable =\n",
              "          await google.colab.kernel.invokeFunction('convertToInteractive',\n",
              "                                                    [key], {});\n",
              "        if (!dataTable) return;\n",
              "\n",
              "        const docLinkHtml = 'Like what you see? Visit the ' +\n",
              "          '<a target=\"_blank\" href=https://colab.research.google.com/notebooks/data_table.ipynb>data table notebook</a>'\n",
              "          + ' to learn more about interactive tables.';\n",
              "        element.innerHTML = '';\n",
              "        dataTable['output_type'] = 'display_data';\n",
              "        await google.colab.output.renderOutput(dataTable, element);\n",
              "        const docLink = document.createElement('div');\n",
              "        docLink.innerHTML = docLinkHtml;\n",
              "        element.appendChild(docLink);\n",
              "      }\n",
              "    </script>\n",
              "  </div>\n",
              "\n",
              "\n",
              "<div id=\"df-dfff0871-6005-4996-9d3c-33b346cc426c\">\n",
              "  <button class=\"colab-df-quickchart\" onclick=\"quickchart('df-dfff0871-6005-4996-9d3c-33b346cc426c')\"\n",
              "            title=\"Suggest charts\"\n",
              "            style=\"display:none;\">\n",
              "\n",
              "<svg xmlns=\"http://www.w3.org/2000/svg\" height=\"24px\"viewBox=\"0 0 24 24\"\n",
              "     width=\"24px\">\n",
              "    <g>\n",
              "        <path d=\"M19 3H5c-1.1 0-2 .9-2 2v14c0 1.1.9 2 2 2h14c1.1 0 2-.9 2-2V5c0-1.1-.9-2-2-2zM9 17H7v-7h2v7zm4 0h-2V7h2v10zm4 0h-2v-4h2v4z\"/>\n",
              "    </g>\n",
              "</svg>\n",
              "  </button>\n",
              "\n",
              "<style>\n",
              "  .colab-df-quickchart {\n",
              "      --bg-color: #E8F0FE;\n",
              "      --fill-color: #1967D2;\n",
              "      --hover-bg-color: #E2EBFA;\n",
              "      --hover-fill-color: #174EA6;\n",
              "      --disabled-fill-color: #AAA;\n",
              "      --disabled-bg-color: #DDD;\n",
              "  }\n",
              "\n",
              "  [theme=dark] .colab-df-quickchart {\n",
              "      --bg-color: #3B4455;\n",
              "      --fill-color: #D2E3FC;\n",
              "      --hover-bg-color: #434B5C;\n",
              "      --hover-fill-color: #FFFFFF;\n",
              "      --disabled-bg-color: #3B4455;\n",
              "      --disabled-fill-color: #666;\n",
              "  }\n",
              "\n",
              "  .colab-df-quickchart {\n",
              "    background-color: var(--bg-color);\n",
              "    border: none;\n",
              "    border-radius: 50%;\n",
              "    cursor: pointer;\n",
              "    display: none;\n",
              "    fill: var(--fill-color);\n",
              "    height: 32px;\n",
              "    padding: 0;\n",
              "    width: 32px;\n",
              "  }\n",
              "\n",
              "  .colab-df-quickchart:hover {\n",
              "    background-color: var(--hover-bg-color);\n",
              "    box-shadow: 0 1px 2px rgba(60, 64, 67, 0.3), 0 1px 3px 1px rgba(60, 64, 67, 0.15);\n",
              "    fill: var(--button-hover-fill-color);\n",
              "  }\n",
              "\n",
              "  .colab-df-quickchart-complete:disabled,\n",
              "  .colab-df-quickchart-complete:disabled:hover {\n",
              "    background-color: var(--disabled-bg-color);\n",
              "    fill: var(--disabled-fill-color);\n",
              "    box-shadow: none;\n",
              "  }\n",
              "\n",
              "  .colab-df-spinner {\n",
              "    border: 2px solid var(--fill-color);\n",
              "    border-color: transparent;\n",
              "    border-bottom-color: var(--fill-color);\n",
              "    animation:\n",
              "      spin 1s steps(1) infinite;\n",
              "  }\n",
              "\n",
              "  @keyframes spin {\n",
              "    0% {\n",
              "      border-color: transparent;\n",
              "      border-bottom-color: var(--fill-color);\n",
              "      border-left-color: var(--fill-color);\n",
              "    }\n",
              "    20% {\n",
              "      border-color: transparent;\n",
              "      border-left-color: var(--fill-color);\n",
              "      border-top-color: var(--fill-color);\n",
              "    }\n",
              "    30% {\n",
              "      border-color: transparent;\n",
              "      border-left-color: var(--fill-color);\n",
              "      border-top-color: var(--fill-color);\n",
              "      border-right-color: var(--fill-color);\n",
              "    }\n",
              "    40% {\n",
              "      border-color: transparent;\n",
              "      border-right-color: var(--fill-color);\n",
              "      border-top-color: var(--fill-color);\n",
              "    }\n",
              "    60% {\n",
              "      border-color: transparent;\n",
              "      border-right-color: var(--fill-color);\n",
              "    }\n",
              "    80% {\n",
              "      border-color: transparent;\n",
              "      border-right-color: var(--fill-color);\n",
              "      border-bottom-color: var(--fill-color);\n",
              "    }\n",
              "    90% {\n",
              "      border-color: transparent;\n",
              "      border-bottom-color: var(--fill-color);\n",
              "    }\n",
              "  }\n",
              "</style>\n",
              "\n",
              "  <script>\n",
              "    async function quickchart(key) {\n",
              "      const quickchartButtonEl =\n",
              "        document.querySelector('#' + key + ' button');\n",
              "      quickchartButtonEl.disabled = true;  // To prevent multiple clicks.\n",
              "      quickchartButtonEl.classList.add('colab-df-spinner');\n",
              "      try {\n",
              "        const charts = await google.colab.kernel.invokeFunction(\n",
              "            'suggestCharts', [key], {});\n",
              "      } catch (error) {\n",
              "        console.error('Error during call to suggestCharts:', error);\n",
              "      }\n",
              "      quickchartButtonEl.classList.remove('colab-df-spinner');\n",
              "      quickchartButtonEl.classList.add('colab-df-quickchart-complete');\n",
              "    }\n",
              "    (() => {\n",
              "      let quickchartButtonEl =\n",
              "        document.querySelector('#df-dfff0871-6005-4996-9d3c-33b346cc426c button');\n",
              "      quickchartButtonEl.style.display =\n",
              "        google.colab.kernel.accessAllowed ? 'block' : 'none';\n",
              "    })();\n",
              "  </script>\n",
              "</div>\n",
              "    </div>\n",
              "  </div>\n"
            ],
            "application/vnd.google.colaboratory.intrinsic+json": {
              "type": "dataframe",
              "variable_name": "top_product_countries",
              "summary": "{\n  \"name\": \"top_product_countries\",\n  \"rows\": 25,\n  \"fields\": [\n    {\n      \"column\": \"Country\",\n      \"properties\": {\n        \"dtype\": \"category\",\n        \"samples\": [\n          \"Netherlands\",\n          \"France\",\n          \"EIRE\"\n        ],\n        \"num_unique_values\": 5,\n        \"semantic_type\": \"\",\n        \"description\": \"\"\n      }\n    },\n    {\n      \"column\": \"Description\",\n      \"properties\": {\n        \"dtype\": \"string\",\n        \"samples\": [\n          \"WORLD WAR 2 GLIDERS ASSTD DESIGNS\",\n          \"MINI PAINT SET VINTAGE \",\n          \"POSTAGE\"\n        ],\n        \"num_unique_values\": 20,\n        \"semantic_type\": \"\",\n        \"description\": \"\"\n      }\n    },\n    {\n      \"column\": \"Quantity\",\n      \"properties\": {\n        \"dtype\": \"number\",\n        \"std\": 15151,\n        \"min\": 1002,\n        \"max\": 48326,\n        \"samples\": [\n          4128,\n          1164,\n          48326\n        ],\n        \"num_unique_values\": 25,\n        \"semantic_type\": \"\",\n        \"description\": \"\"\n      }\n    },\n    {\n      \"column\": \"ProductRank\",\n      \"properties\": {\n        \"dtype\": \"number\",\n        \"std\": 1,\n        \"min\": 1,\n        \"max\": 5,\n        \"samples\": [\n          2,\n          5,\n          3\n        ],\n        \"num_unique_values\": 5,\n        \"semantic_type\": \"\",\n        \"description\": \"\"\n      }\n    }\n  ]\n}"
            }
          },
          "metadata": {},
          "execution_count": 27
        }
      ]
    },
    {
      "cell_type": "code",
      "source": [
        "selected_country = ''\n",
        "\n",
        "for index, rows in top_product_countries.iterrows():\n",
        "  if rows[\"Country\"] != selected_country:\n",
        "    sql_top_selling_products_by_country_by_quantity[rows[\"Country\"]] = []\n",
        "    selected_country = rows[\"Country\"]\n",
        "  tuple_country = (rows['Country'], rows['Description'], rows['Quantity'])\n",
        "  sql_top_selling_products_by_country_by_quantity[rows[\"Country\"]].append(tuple_country)"
      ],
      "metadata": {
        "id": "osI8RzgCEMzZ"
      },
      "id": "osI8RzgCEMzZ",
      "execution_count": 28,
      "outputs": []
    },
    {
      "cell_type": "code",
      "source": [
        "sql_top_selling_products_by_country_by_quantity"
      ],
      "metadata": {
        "colab": {
          "base_uri": "https://localhost:8080/"
        },
        "id": "Bht9LY_wEjSS",
        "outputId": "4b48139f-88b3-4d41-9d8f-97525cf2e6b8"
      },
      "id": "Bht9LY_wEjSS",
      "execution_count": 29,
      "outputs": [
        {
          "output_type": "execute_result",
          "data": {
            "text/plain": [
              "{'United Kingdom': [('United Kingdom',\n",
              "   'WORLD WAR 2 GLIDERS ASSTD DESIGNS',\n",
              "   48326),\n",
              "  ('United Kingdom', 'JUMBO BAG RED RETROSPOT', 43167),\n",
              "  ('United Kingdom', 'POPCORN HOLDER', 34365),\n",
              "  ('United Kingdom', 'ASSORTED COLOUR BIRD ORNAMENT', 33679),\n",
              "  ('United Kingdom', 'WHITE HANGING HEART T-LIGHT HOLDER', 33193)],\n",
              " 'Netherlands': [('Netherlands', 'RABBIT NIGHT LIGHT', 4801),\n",
              "  ('Netherlands', 'SPACEBOY LUNCH BOX ', 4528),\n",
              "  ('Netherlands', 'DOLLY GIRL LUNCH BOX', 4132),\n",
              "  ('Netherlands', 'PACK OF 72 RETROSPOT CAKE CASES', 4128),\n",
              "  ('Netherlands', 'ROUND SNACK BOXES SET OF4 WOODLAND ', 3132)],\n",
              " 'EIRE': [('EIRE', 'PACK OF 72 RETROSPOT CAKE CASES', 1728),\n",
              "  ('EIRE', '60 TEATIME FAIRY CAKE CASES', 1536),\n",
              "  ('EIRE', 'VINTAGE SNAP CARDS', 1492),\n",
              "  ('EIRE', 'ASSORTED INCENSE PACK', 1440),\n",
              "  ('EIRE', 'PACK OF 60 PINK PAISLEY CAKE CASES', 1296)],\n",
              " 'Germany': [('Germany', 'ROUND SNACK BOXES SET OF4 WOODLAND ', 1218),\n",
              "  ('Germany', 'ASSORTED COLOURS SILK FAN', 1164),\n",
              "  ('Germany', 'POSTAGE', 1104),\n",
              "  ('Germany', 'WOODLAND CHARLOTTE BAG', 1019),\n",
              "  ('Germany', 'PACK OF 72 RETROSPOT CAKE CASES', 1002)],\n",
              " 'France': [('France', 'RABBIT NIGHT LIGHT', 4023),\n",
              "  ('France', 'MINI PAINT SET VINTAGE ', 2196),\n",
              "  ('France', 'RED TOADSTOOL LED NIGHT LIGHT', 1314),\n",
              "  ('France', 'SET/6 RED SPOTTY PAPER CUPS', 1272),\n",
              "  ('France', 'ASSORTED COLOUR BIRD ORNAMENT', 1204)]}"
            ]
          },
          "metadata": {},
          "execution_count": 29
        }
      ]
    },
    {
      "cell_type": "code",
      "source": [
        "conn.close()"
      ],
      "metadata": {
        "id": "fAeS689f2KKx"
      },
      "id": "fAeS689f2KKx",
      "execution_count": 30,
      "outputs": []
    },
    {
      "cell_type": "code",
      "source": [
        "question_id = \"01_sql_columns\"\n",
        "submit(student_id, name, assignment_id, str(sql_columns), question_id, drive_link)\n",
        "question_id = \"02_sql_num_rows\"\n",
        "submit(student_id, name, assignment_id, str(sql_num_rows), question_id, drive_link)\n",
        "question_id = \"03_sql_num_products\"\n",
        "submit(student_id, name, assignment_id, str(sql_num_products), question_id, drive_link)\n",
        "question_id = \"04_sql_num_customers\"\n",
        "submit(student_id, name, assignment_id, str(sql_num_customers), question_id, drive_link)\n",
        "question_id = \"05_sql_top_product_revenues\"\n",
        "submit(student_id, name, assignment_id, str(sql_top_product_revenues), question_id, drive_link)\n",
        "question_id = \"06_sql_top_countries\"\n",
        "submit(student_id, name, assignment_id, str(sql_top_countries), question_id, drive_link)\n",
        "question_id = \"07_sql_top_selling_products_by_country_by_sales\"\n",
        "submit(student_id, name, assignment_id, str(sql_top_selling_products_by_country_by_sales), question_id, drive_link)\n",
        "question_id = \"08_sql_top_selling_products_by_country_by_quantity\"\n",
        "submit(student_id, name, assignment_id, str(sql_top_selling_products_by_country_by_quantity), question_id, drive_link)"
      ],
      "metadata": {
        "colab": {
          "base_uri": "https://localhost:8080/",
          "height": 36
        },
        "id": "-EV6HhUkz7RR",
        "outputId": "7388efff-f687-4335-fa20-5534cf2080eb"
      },
      "id": "-EV6HhUkz7RR",
      "execution_count": 31,
      "outputs": [
        {
          "output_type": "execute_result",
          "data": {
            "text/plain": [
              "'Assignment successfully submitted'"
            ],
            "application/vnd.google.colaboratory.intrinsic+json": {
              "type": "string"
            }
          },
          "metadata": {},
          "execution_count": 31
        }
      ]
    },
    {
      "cell_type": "markdown",
      "id": "1d391ec9-ca95-4c56-b4f6-fccf8e0be14a",
      "metadata": {
        "id": "1d391ec9-ca95-4c56-b4f6-fccf8e0be14a"
      },
      "source": [
        "## II. Indexing and Querying with Elasticsearch\n",
        "\n",
        "You should have a better understanding of how to use SQL, now let's leverage the power of Elasticsearch to explore and analyze the data. We'll use the same dataset.\n"
      ]
    },
    {
      "cell_type": "markdown",
      "id": "e7dd72e3-4d2f-4f3a-80ef-7b8b6440b124",
      "metadata": {
        "id": "e7dd72e3-4d2f-4f3a-80ef-7b8b6440b124"
      },
      "source": [
        "### II.1. Package and Module Installation\n",
        "\n",
        "First, let's pool all package and module that you'll need in the installation section below."
      ]
    },
    {
      "cell_type": "code",
      "source": [
        "!pip install elasticsearch==7.9.0"
      ],
      "metadata": {
        "colab": {
          "base_uri": "https://localhost:8080/"
        },
        "id": "Y5M53Bfm69G7",
        "outputId": "cd6bfdc3-c01c-42b2-8ff6-8d2dee4e3abc"
      },
      "execution_count": 32,
      "outputs": [
        {
          "output_type": "stream",
          "name": "stdout",
          "text": [
            "Collecting elasticsearch==7.9.0\n",
            "  Downloading elasticsearch-7.9.0-py2.py3-none-any.whl (213 kB)\n",
            "\u001b[?25l     \u001b[90m━━━━━━━━━━━━━━━━━━━━━━━━━━━━━━━━━━━━━━━━\u001b[0m \u001b[32m0.0/213.5 kB\u001b[0m \u001b[31m?\u001b[0m eta \u001b[36m-:--:--\u001b[0m\r\u001b[2K     \u001b[91m━━━━━━━━━━━━━━━━━━━━━━━\u001b[0m\u001b[90m╺\u001b[0m\u001b[90m━━━━━━━━━━━━━━━━\u001b[0m \u001b[32m122.9/213.5 kB\u001b[0m \u001b[31m3.4 MB/s\u001b[0m eta \u001b[36m0:00:01\u001b[0m\r\u001b[2K     \u001b[90m━━━━━━━━━━━━━━━━━━━━━━━━━━━━━━━━━━━━━━━━\u001b[0m \u001b[32m213.5/213.5 kB\u001b[0m \u001b[31m3.9 MB/s\u001b[0m eta \u001b[36m0:00:00\u001b[0m\n",
            "\u001b[?25hRequirement already satisfied: urllib3>=1.21.1 in /usr/local/lib/python3.10/dist-packages (from elasticsearch==7.9.0) (2.0.7)\n",
            "Requirement already satisfied: certifi in /usr/local/lib/python3.10/dist-packages (from elasticsearch==7.9.0) (2024.2.2)\n",
            "Installing collected packages: elasticsearch\n",
            "Successfully installed elasticsearch-7.9.0\n"
          ]
        }
      ],
      "id": "Y5M53Bfm69G7"
    },
    {
      "cell_type": "code",
      "source": [
        "from elasticsearch import Elasticsearch\n",
        "from elasticsearch.helpers import bulk\n",
        "import pandas as pd\n",
        "import time\n",
        "import json\n",
        "\n",
        "import warnings\n",
        "warnings.filterwarnings(\"ignore\")"
      ],
      "metadata": {
        "id": "KBOFaDTE5JM2"
      },
      "execution_count": 33,
      "outputs": [],
      "id": "KBOFaDTE5JM2"
    },
    {
      "cell_type": "code",
      "source": [
        "%%bash\n",
        "\n",
        "wget -q https://artifacts.elastic.co/downloads/elasticsearch/elasticsearch-oss-7.9.2-linux-x86_64.tar.gz\n",
        "wget -q https://artifacts.elastic.co/downloads/elasticsearch/elasticsearch-oss-7.9.2-linux-x86_64.tar.gz.sha512\n",
        "tar -xzf elasticsearch-oss-7.9.2-linux-x86_64.tar.gz\n",
        "sudo chown -R daemon:daemon elasticsearch-7.9.2/\n",
        "shasum -a 512 -c elasticsearch-oss-7.9.2-linux-x86_64.tar.gz.sha512"
      ],
      "metadata": {
        "colab": {
          "base_uri": "https://localhost:8080/"
        },
        "id": "8aIwDYvL3V0i",
        "outputId": "0a5a2dd7-a7c4-4173-84a5-e2ee66d81a55"
      },
      "execution_count": 34,
      "outputs": [
        {
          "output_type": "stream",
          "name": "stdout",
          "text": [
            "elasticsearch-oss-7.9.2-linux-x86_64.tar.gz: OK\n"
          ]
        }
      ],
      "id": "8aIwDYvL3V0i"
    },
    {
      "cell_type": "code",
      "source": [
        "%%bash --bg\n",
        "\n",
        "sudo -H -u daemon elasticsearch-7.9.2/bin/elasticsearch"
      ],
      "metadata": {
        "id": "3w90IoE83Whd"
      },
      "execution_count": 35,
      "outputs": [],
      "id": "3w90IoE83Whd"
    },
    {
      "cell_type": "code",
      "source": [
        "time.sleep(20)"
      ],
      "metadata": {
        "id": "BwfCaaeA3XKi"
      },
      "execution_count": 36,
      "outputs": [],
      "id": "BwfCaaeA3XKi"
    },
    {
      "cell_type": "code",
      "source": [
        "%%bash\n",
        "\n",
        "ps -ef | grep elasticsearch"
      ],
      "metadata": {
        "colab": {
          "base_uri": "https://localhost:8080/"
        },
        "id": "UzVRM9X53YUC",
        "outputId": "ab27fccc-0a87-4b52-c41e-486933ca733a"
      },
      "execution_count": 37,
      "outputs": [
        {
          "output_type": "stream",
          "name": "stdout",
          "text": [
            "root        1535    1533  0 16:30 ?        00:00:00 sudo -H -u daemon elasticsearch-7.9.2/bin/elasti\n",
            "daemon      1536    1535 78 16:30 ?        00:00:15 /content/elasticsearch-7.9.2/jdk/bin/java -Xshar\n",
            "root        1838    1836  0 16:30 ?        00:00:00 grep elasticsearch\n"
          ]
        }
      ],
      "id": "UzVRM9X53YUC"
    },
    {
      "cell_type": "code",
      "source": [
        "%%bash\n",
        "\n",
        "curl -sX GET \"localhost:9200/\""
      ],
      "metadata": {
        "colab": {
          "base_uri": "https://localhost:8080/"
        },
        "id": "JpJ77Ymp3ZF4",
        "outputId": "f55b2672-8d2e-4ca2-d0fd-98799900ffaf"
      },
      "execution_count": 39,
      "outputs": [
        {
          "output_type": "stream",
          "name": "stdout",
          "text": [
            "{\n",
            "  \"name\" : \"e6a6e5210f75\",\n",
            "  \"cluster_name\" : \"elasticsearch\",\n",
            "  \"cluster_uuid\" : \"fKotaOehSem27yVBb2vPFA\",\n",
            "  \"version\" : {\n",
            "    \"number\" : \"7.9.2\",\n",
            "    \"build_flavor\" : \"oss\",\n",
            "    \"build_type\" : \"tar\",\n",
            "    \"build_hash\" : \"d34da0ea4a966c4e49417f2da2f244e3e97b4e6e\",\n",
            "    \"build_date\" : \"2020-09-23T00:45:33.626720Z\",\n",
            "    \"build_snapshot\" : false,\n",
            "    \"lucene_version\" : \"8.6.2\",\n",
            "    \"minimum_wire_compatibility_version\" : \"6.8.0\",\n",
            "    \"minimum_index_compatibility_version\" : \"6.0.0-beta1\"\n",
            "  },\n",
            "  \"tagline\" : \"You Know, for Search\"\n",
            "}\n"
          ]
        }
      ],
      "id": "JpJ77Ymp3ZF4"
    },
    {
      "cell_type": "markdown",
      "id": "6c1633bd-61cb-4009-a064-b2ce2fdfeee4",
      "metadata": {
        "id": "6c1633bd-61cb-4009-a064-b2ce2fdfeee4"
      },
      "source": [
        "### II.2. Set up Elasticsearch Index\n",
        "\n",
        "The first step you need to do which is **preprocessing, let's keep it simple and simply drop all row that have missing values.**\n",
        "\n",
        "Next, you need to set up an Elasticsearch index. An Elasticsearch index is like a database in a traditional relational database. An index lets you store, search, and analyze big volumes of data quickly and in near real time.\n",
        "\n",
        "You'll also need to setup the mappings for the data types, let's do that here."
      ]
    },
    {
      "cell_type": "code",
      "source": [
        "df_elastic = df.copy()"
      ],
      "metadata": {
        "id": "p1fm1xvKzaKM"
      },
      "execution_count": 40,
      "outputs": [],
      "id": "p1fm1xvKzaKM"
    },
    {
      "cell_type": "code",
      "source": [
        "# Convert 'InvoiceDate' column to datetime format\n",
        "df_elastic['InvoiceDate'] = pd.to_datetime(df_elastic['InvoiceDate'], format='%m/%d/%Y %H:%M')\n",
        "\n",
        "# Add leading zero to month if it's a single digit\n",
        "df_elastic['InvoiceDate'] = df_elastic['InvoiceDate'].dt.strftime('%m/%d/%Y %H:%M')"
      ],
      "metadata": {
        "id": "d45loLWsBcGn"
      },
      "id": "d45loLWsBcGn",
      "execution_count": 41,
      "outputs": []
    },
    {
      "cell_type": "code",
      "source": [
        "df_elastic.head(3)"
      ],
      "metadata": {
        "colab": {
          "base_uri": "https://localhost:8080/",
          "height": 143
        },
        "id": "htIlzgCQPxe7",
        "outputId": "5c50db40-a797-48dd-d408-3bdcd0f314f4"
      },
      "execution_count": 42,
      "outputs": [
        {
          "output_type": "execute_result",
          "data": {
            "text/plain": [
              "  InvoiceNo StockCode                         Description  Quantity  \\\n",
              "0    536365    85123A  WHITE HANGING HEART T-LIGHT HOLDER         6   \n",
              "1    536365     71053                 WHITE METAL LANTERN         6   \n",
              "2    536365    84406B      CREAM CUPID HEARTS COAT HANGER         8   \n",
              "\n",
              "        InvoiceDate  UnitPrice  CustomerID         Country  \n",
              "0  12/01/2010 08:26       2.55     17850.0  United Kingdom  \n",
              "1  12/01/2010 08:26       3.39     17850.0  United Kingdom  \n",
              "2  12/01/2010 08:26       2.75     17850.0  United Kingdom  "
            ],
            "text/html": [
              "\n",
              "  <div id=\"df-3d5d4d55-d9b7-45e2-9fa3-0c1b99482a25\" class=\"colab-df-container\">\n",
              "    <div>\n",
              "<style scoped>\n",
              "    .dataframe tbody tr th:only-of-type {\n",
              "        vertical-align: middle;\n",
              "    }\n",
              "\n",
              "    .dataframe tbody tr th {\n",
              "        vertical-align: top;\n",
              "    }\n",
              "\n",
              "    .dataframe thead th {\n",
              "        text-align: right;\n",
              "    }\n",
              "</style>\n",
              "<table border=\"1\" class=\"dataframe\">\n",
              "  <thead>\n",
              "    <tr style=\"text-align: right;\">\n",
              "      <th></th>\n",
              "      <th>InvoiceNo</th>\n",
              "      <th>StockCode</th>\n",
              "      <th>Description</th>\n",
              "      <th>Quantity</th>\n",
              "      <th>InvoiceDate</th>\n",
              "      <th>UnitPrice</th>\n",
              "      <th>CustomerID</th>\n",
              "      <th>Country</th>\n",
              "    </tr>\n",
              "  </thead>\n",
              "  <tbody>\n",
              "    <tr>\n",
              "      <th>0</th>\n",
              "      <td>536365</td>\n",
              "      <td>85123A</td>\n",
              "      <td>WHITE HANGING HEART T-LIGHT HOLDER</td>\n",
              "      <td>6</td>\n",
              "      <td>12/01/2010 08:26</td>\n",
              "      <td>2.55</td>\n",
              "      <td>17850.0</td>\n",
              "      <td>United Kingdom</td>\n",
              "    </tr>\n",
              "    <tr>\n",
              "      <th>1</th>\n",
              "      <td>536365</td>\n",
              "      <td>71053</td>\n",
              "      <td>WHITE METAL LANTERN</td>\n",
              "      <td>6</td>\n",
              "      <td>12/01/2010 08:26</td>\n",
              "      <td>3.39</td>\n",
              "      <td>17850.0</td>\n",
              "      <td>United Kingdom</td>\n",
              "    </tr>\n",
              "    <tr>\n",
              "      <th>2</th>\n",
              "      <td>536365</td>\n",
              "      <td>84406B</td>\n",
              "      <td>CREAM CUPID HEARTS COAT HANGER</td>\n",
              "      <td>8</td>\n",
              "      <td>12/01/2010 08:26</td>\n",
              "      <td>2.75</td>\n",
              "      <td>17850.0</td>\n",
              "      <td>United Kingdom</td>\n",
              "    </tr>\n",
              "  </tbody>\n",
              "</table>\n",
              "</div>\n",
              "    <div class=\"colab-df-buttons\">\n",
              "\n",
              "  <div class=\"colab-df-container\">\n",
              "    <button class=\"colab-df-convert\" onclick=\"convertToInteractive('df-3d5d4d55-d9b7-45e2-9fa3-0c1b99482a25')\"\n",
              "            title=\"Convert this dataframe to an interactive table.\"\n",
              "            style=\"display:none;\">\n",
              "\n",
              "  <svg xmlns=\"http://www.w3.org/2000/svg\" height=\"24px\" viewBox=\"0 -960 960 960\">\n",
              "    <path d=\"M120-120v-720h720v720H120Zm60-500h600v-160H180v160Zm220 220h160v-160H400v160Zm0 220h160v-160H400v160ZM180-400h160v-160H180v160Zm440 0h160v-160H620v160ZM180-180h160v-160H180v160Zm440 0h160v-160H620v160Z\"/>\n",
              "  </svg>\n",
              "    </button>\n",
              "\n",
              "  <style>\n",
              "    .colab-df-container {\n",
              "      display:flex;\n",
              "      gap: 12px;\n",
              "    }\n",
              "\n",
              "    .colab-df-convert {\n",
              "      background-color: #E8F0FE;\n",
              "      border: none;\n",
              "      border-radius: 50%;\n",
              "      cursor: pointer;\n",
              "      display: none;\n",
              "      fill: #1967D2;\n",
              "      height: 32px;\n",
              "      padding: 0 0 0 0;\n",
              "      width: 32px;\n",
              "    }\n",
              "\n",
              "    .colab-df-convert:hover {\n",
              "      background-color: #E2EBFA;\n",
              "      box-shadow: 0px 1px 2px rgba(60, 64, 67, 0.3), 0px 1px 3px 1px rgba(60, 64, 67, 0.15);\n",
              "      fill: #174EA6;\n",
              "    }\n",
              "\n",
              "    .colab-df-buttons div {\n",
              "      margin-bottom: 4px;\n",
              "    }\n",
              "\n",
              "    [theme=dark] .colab-df-convert {\n",
              "      background-color: #3B4455;\n",
              "      fill: #D2E3FC;\n",
              "    }\n",
              "\n",
              "    [theme=dark] .colab-df-convert:hover {\n",
              "      background-color: #434B5C;\n",
              "      box-shadow: 0px 1px 3px 1px rgba(0, 0, 0, 0.15);\n",
              "      filter: drop-shadow(0px 1px 2px rgba(0, 0, 0, 0.3));\n",
              "      fill: #FFFFFF;\n",
              "    }\n",
              "  </style>\n",
              "\n",
              "    <script>\n",
              "      const buttonEl =\n",
              "        document.querySelector('#df-3d5d4d55-d9b7-45e2-9fa3-0c1b99482a25 button.colab-df-convert');\n",
              "      buttonEl.style.display =\n",
              "        google.colab.kernel.accessAllowed ? 'block' : 'none';\n",
              "\n",
              "      async function convertToInteractive(key) {\n",
              "        const element = document.querySelector('#df-3d5d4d55-d9b7-45e2-9fa3-0c1b99482a25');\n",
              "        const dataTable =\n",
              "          await google.colab.kernel.invokeFunction('convertToInteractive',\n",
              "                                                    [key], {});\n",
              "        if (!dataTable) return;\n",
              "\n",
              "        const docLinkHtml = 'Like what you see? Visit the ' +\n",
              "          '<a target=\"_blank\" href=https://colab.research.google.com/notebooks/data_table.ipynb>data table notebook</a>'\n",
              "          + ' to learn more about interactive tables.';\n",
              "        element.innerHTML = '';\n",
              "        dataTable['output_type'] = 'display_data';\n",
              "        await google.colab.output.renderOutput(dataTable, element);\n",
              "        const docLink = document.createElement('div');\n",
              "        docLink.innerHTML = docLinkHtml;\n",
              "        element.appendChild(docLink);\n",
              "      }\n",
              "    </script>\n",
              "  </div>\n",
              "\n",
              "\n",
              "<div id=\"df-866df3cb-b20d-42c4-b6a9-4123cee5e7da\">\n",
              "  <button class=\"colab-df-quickchart\" onclick=\"quickchart('df-866df3cb-b20d-42c4-b6a9-4123cee5e7da')\"\n",
              "            title=\"Suggest charts\"\n",
              "            style=\"display:none;\">\n",
              "\n",
              "<svg xmlns=\"http://www.w3.org/2000/svg\" height=\"24px\"viewBox=\"0 0 24 24\"\n",
              "     width=\"24px\">\n",
              "    <g>\n",
              "        <path d=\"M19 3H5c-1.1 0-2 .9-2 2v14c0 1.1.9 2 2 2h14c1.1 0 2-.9 2-2V5c0-1.1-.9-2-2-2zM9 17H7v-7h2v7zm4 0h-2V7h2v10zm4 0h-2v-4h2v4z\"/>\n",
              "    </g>\n",
              "</svg>\n",
              "  </button>\n",
              "\n",
              "<style>\n",
              "  .colab-df-quickchart {\n",
              "      --bg-color: #E8F0FE;\n",
              "      --fill-color: #1967D2;\n",
              "      --hover-bg-color: #E2EBFA;\n",
              "      --hover-fill-color: #174EA6;\n",
              "      --disabled-fill-color: #AAA;\n",
              "      --disabled-bg-color: #DDD;\n",
              "  }\n",
              "\n",
              "  [theme=dark] .colab-df-quickchart {\n",
              "      --bg-color: #3B4455;\n",
              "      --fill-color: #D2E3FC;\n",
              "      --hover-bg-color: #434B5C;\n",
              "      --hover-fill-color: #FFFFFF;\n",
              "      --disabled-bg-color: #3B4455;\n",
              "      --disabled-fill-color: #666;\n",
              "  }\n",
              "\n",
              "  .colab-df-quickchart {\n",
              "    background-color: var(--bg-color);\n",
              "    border: none;\n",
              "    border-radius: 50%;\n",
              "    cursor: pointer;\n",
              "    display: none;\n",
              "    fill: var(--fill-color);\n",
              "    height: 32px;\n",
              "    padding: 0;\n",
              "    width: 32px;\n",
              "  }\n",
              "\n",
              "  .colab-df-quickchart:hover {\n",
              "    background-color: var(--hover-bg-color);\n",
              "    box-shadow: 0 1px 2px rgba(60, 64, 67, 0.3), 0 1px 3px 1px rgba(60, 64, 67, 0.15);\n",
              "    fill: var(--button-hover-fill-color);\n",
              "  }\n",
              "\n",
              "  .colab-df-quickchart-complete:disabled,\n",
              "  .colab-df-quickchart-complete:disabled:hover {\n",
              "    background-color: var(--disabled-bg-color);\n",
              "    fill: var(--disabled-fill-color);\n",
              "    box-shadow: none;\n",
              "  }\n",
              "\n",
              "  .colab-df-spinner {\n",
              "    border: 2px solid var(--fill-color);\n",
              "    border-color: transparent;\n",
              "    border-bottom-color: var(--fill-color);\n",
              "    animation:\n",
              "      spin 1s steps(1) infinite;\n",
              "  }\n",
              "\n",
              "  @keyframes spin {\n",
              "    0% {\n",
              "      border-color: transparent;\n",
              "      border-bottom-color: var(--fill-color);\n",
              "      border-left-color: var(--fill-color);\n",
              "    }\n",
              "    20% {\n",
              "      border-color: transparent;\n",
              "      border-left-color: var(--fill-color);\n",
              "      border-top-color: var(--fill-color);\n",
              "    }\n",
              "    30% {\n",
              "      border-color: transparent;\n",
              "      border-left-color: var(--fill-color);\n",
              "      border-top-color: var(--fill-color);\n",
              "      border-right-color: var(--fill-color);\n",
              "    }\n",
              "    40% {\n",
              "      border-color: transparent;\n",
              "      border-right-color: var(--fill-color);\n",
              "      border-top-color: var(--fill-color);\n",
              "    }\n",
              "    60% {\n",
              "      border-color: transparent;\n",
              "      border-right-color: var(--fill-color);\n",
              "    }\n",
              "    80% {\n",
              "      border-color: transparent;\n",
              "      border-right-color: var(--fill-color);\n",
              "      border-bottom-color: var(--fill-color);\n",
              "    }\n",
              "    90% {\n",
              "      border-color: transparent;\n",
              "      border-bottom-color: var(--fill-color);\n",
              "    }\n",
              "  }\n",
              "</style>\n",
              "\n",
              "  <script>\n",
              "    async function quickchart(key) {\n",
              "      const quickchartButtonEl =\n",
              "        document.querySelector('#' + key + ' button');\n",
              "      quickchartButtonEl.disabled = true;  // To prevent multiple clicks.\n",
              "      quickchartButtonEl.classList.add('colab-df-spinner');\n",
              "      try {\n",
              "        const charts = await google.colab.kernel.invokeFunction(\n",
              "            'suggestCharts', [key], {});\n",
              "      } catch (error) {\n",
              "        console.error('Error during call to suggestCharts:', error);\n",
              "      }\n",
              "      quickchartButtonEl.classList.remove('colab-df-spinner');\n",
              "      quickchartButtonEl.classList.add('colab-df-quickchart-complete');\n",
              "    }\n",
              "    (() => {\n",
              "      let quickchartButtonEl =\n",
              "        document.querySelector('#df-866df3cb-b20d-42c4-b6a9-4123cee5e7da button');\n",
              "      quickchartButtonEl.style.display =\n",
              "        google.colab.kernel.accessAllowed ? 'block' : 'none';\n",
              "    })();\n",
              "  </script>\n",
              "</div>\n",
              "    </div>\n",
              "  </div>\n"
            ],
            "application/vnd.google.colaboratory.intrinsic+json": {
              "type": "dataframe",
              "variable_name": "df_elastic"
            }
          },
          "metadata": {},
          "execution_count": 42
        }
      ],
      "id": "htIlzgCQPxe7"
    },
    {
      "cell_type": "code",
      "source": [
        "df_elastic.isna().sum().sum()"
      ],
      "metadata": {
        "colab": {
          "base_uri": "https://localhost:8080/"
        },
        "id": "s0iF8u6_RFxw",
        "outputId": "11ed07d8-a039-4a33-efbc-458210cb0a51"
      },
      "execution_count": 43,
      "outputs": [
        {
          "output_type": "execute_result",
          "data": {
            "text/plain": [
              "136534"
            ]
          },
          "metadata": {},
          "execution_count": 43
        }
      ],
      "id": "s0iF8u6_RFxw"
    },
    {
      "cell_type": "code",
      "source": [
        "# Drop rows with missing values\n",
        "df_elastic.dropna(inplace=True)"
      ],
      "metadata": {
        "id": "F7omyH6ZPRGD"
      },
      "execution_count": 44,
      "outputs": [],
      "id": "F7omyH6ZPRGD"
    },
    {
      "cell_type": "code",
      "source": [
        "df_elastic.isna().sum().sum()"
      ],
      "metadata": {
        "colab": {
          "base_uri": "https://localhost:8080/"
        },
        "id": "I1AAwIs-Q_2Y",
        "outputId": "c59191cd-997b-4487-d207-78bca800087b"
      },
      "execution_count": 45,
      "outputs": [
        {
          "output_type": "execute_result",
          "data": {
            "text/plain": [
              "0"
            ]
          },
          "metadata": {},
          "execution_count": 45
        }
      ],
      "id": "I1AAwIs-Q_2Y"
    },
    {
      "cell_type": "markdown",
      "id": "39f7d0b8-698d-4666-a64a-8a1122bc5421",
      "metadata": {
        "id": "39f7d0b8-698d-4666-a64a-8a1122bc5421"
      },
      "source": [
        "### II.3. Verifying the index\n",
        "\n",
        "Before we go to the next section, let's check our index first. You need to change the my_index_name with your chosen index name, afterwards you can just run the code block. The result should be:\n",
        "\n",
        "- Columns: ['Country', 'CustomerID', 'Description', 'InvoiceDate', 'InvoiceNo', 'Quantity', 'StockCode', 'UnitPrice']\n",
        "- Number of rows: 406829"
      ]
    },
    {
      "cell_type": "code",
      "source": [
        "# Connect to the Elasticsearch server\n",
        "es = Elasticsearch([{'host': 'localhost', 'port': 9200, 'scheme': 'http'}])"
      ],
      "metadata": {
        "id": "lNWtRW_J16sj"
      },
      "id": "lNWtRW_J16sj",
      "execution_count": 46,
      "outputs": []
    },
    {
      "cell_type": "code",
      "source": [
        "# Define index name\n",
        "index_name = 'ecommerce'"
      ],
      "metadata": {
        "id": "5tq0IXVb13lS"
      },
      "id": "5tq0IXVb13lS",
      "execution_count": 47,
      "outputs": []
    },
    {
      "cell_type": "code",
      "source": [
        "# Define index settings and mappings\n",
        "index_settings = {\n",
        "    'mappings': {\n",
        "        'properties': {\n",
        "            'InvoiceNo': {'type': 'keyword'},\n",
        "            'StockCode': {'type': 'keyword'},\n",
        "            'Description': {'type': 'keyword'},\n",
        "            'Quantity': {'type': 'integer'},\n",
        "            'InvoiceDate': {'type': 'date', 'format': 'MM/dd/yyyy HH:mm'},\n",
        "            'UnitPrice': {'type': 'float'},\n",
        "            'CustomerID': {'type': 'float'},\n",
        "            'Country': {'type': 'keyword'}\n",
        "        }\n",
        "    }\n",
        "}"
      ],
      "metadata": {
        "id": "GyCBTvqy9f5m"
      },
      "id": "GyCBTvqy9f5m",
      "execution_count": 48,
      "outputs": []
    },
    {
      "cell_type": "code",
      "source": [
        "# # Delete the index\n",
        "# response_delete = es.indices.delete(index=index_name, ignore=[400, 404])\n",
        "\n",
        "# # Check if the index was deleted successfully\n",
        "# if 'acknowledged' in response_delete and response_delete['acknowledged']:\n",
        "#     print(f\"Index '{index_name}' deleted successfully.\")\n",
        "# else:\n",
        "#     print(f\"Failed to delete index '{index_name}'.\")"
      ],
      "metadata": {
        "id": "kvxiZ8Gj_6jr"
      },
      "id": "kvxiZ8Gj_6jr",
      "execution_count": 49,
      "outputs": []
    },
    {
      "cell_type": "code",
      "source": [
        "# Create the index with the specified settings and mappings\n",
        "response_create = es.indices.create(index=index_name, body=index_settings, ignore=400)\n",
        "print(json.dumps(response_create, indent=4))"
      ],
      "metadata": {
        "colab": {
          "base_uri": "https://localhost:8080/"
        },
        "id": "4zrtDhmU9bVq",
        "outputId": "7b93d35d-586b-4e7a-99e0-ff180504b932"
      },
      "id": "4zrtDhmU9bVq",
      "execution_count": 50,
      "outputs": [
        {
          "output_type": "stream",
          "name": "stdout",
          "text": [
            "{\n",
            "    \"acknowledged\": true,\n",
            "    \"shards_acknowledged\": true,\n",
            "    \"index\": \"ecommerce\"\n",
            "}\n"
          ]
        }
      ]
    },
    {
      "cell_type": "code",
      "source": [
        "# Convert DataFrame to a list of dictionaries\n",
        "docs = df_elastic.to_dict(orient='records')"
      ],
      "metadata": {
        "id": "4npN_i_m9_Ck"
      },
      "id": "4npN_i_m9_Ck",
      "execution_count": 51,
      "outputs": []
    },
    {
      "cell_type": "code",
      "source": [
        "# Function to generate Elasticsearch actions\n",
        "def generate_actions(docs):\n",
        "    for doc in docs:\n",
        "        yield {\n",
        "            \"_index\": index_name,\n",
        "            \"_source\": doc\n",
        "        }"
      ],
      "metadata": {
        "id": "YlPidoH1-GMo"
      },
      "id": "YlPidoH1-GMo",
      "execution_count": 52,
      "outputs": []
    },
    {
      "cell_type": "code",
      "source": [
        "success, _ = bulk(es, generate_actions(docs))\n",
        "print(f\"Inserted {success} documents into the index '{index_name}'.\")"
      ],
      "metadata": {
        "colab": {
          "base_uri": "https://localhost:8080/"
        },
        "id": "1xyBGdBA-Asz",
        "outputId": "0c8b20fb-74f3-4e69-85c6-5991f5deb953"
      },
      "id": "1xyBGdBA-Asz",
      "execution_count": 53,
      "outputs": [
        {
          "output_type": "stream",
          "name": "stdout",
          "text": [
            "Inserted 406829 documents into the index 'ecommerce'.\n"
          ]
        }
      ]
    },
    {
      "cell_type": "markdown",
      "source": [
        "#### Get Result"
      ],
      "metadata": {
        "id": "G6cYMGpc9BzU"
      },
      "id": "G6cYMGpc9BzU"
    },
    {
      "cell_type": "code",
      "execution_count": 54,
      "id": "ac844f06-2729-4299-a0c3-409a35fa39f1",
      "metadata": {
        "id": "ac844f06-2729-4299-a0c3-409a35fa39f1",
        "colab": {
          "base_uri": "https://localhost:8080/"
        },
        "outputId": "d122f772-2637-484a-8d11-16bc31d3c4f6"
      },
      "outputs": [
        {
          "output_type": "stream",
          "name": "stdout",
          "text": [
            "Columns: ['Country', 'CustomerID', 'Description', 'InvoiceDate', 'InvoiceNo', 'Quantity', 'StockCode', 'UnitPrice']\n",
            "Number of rows: 406829\n"
          ]
        }
      ],
      "source": [
        "# Get index mapping (equivalent to getting column names in SQL)\n",
        "mapping = es.indices.get_mapping(index=index_name)\n",
        "es_columns = list(mapping[index_name]['mappings']['properties'].keys()) #the variable es_columns is used for submission, do not change the variable name\n",
        "print(f\"Columns: {es_columns}\")\n",
        "\n",
        "# Count documents in the index (equivalent to counting rows in SQL)\n",
        "es_num_rows = es.count(index=index_name)['count'] #the variable es_num_rows is used for submission, do not change the variable name\n",
        "print(f\"Number of rows: {es_num_rows}\")\n"
      ]
    },
    {
      "cell_type": "markdown",
      "id": "dbf3e34d-1092-4326-9f42-83fc2c3bfa29",
      "metadata": {
        "id": "dbf3e34d-1092-4326-9f42-83fc2c3bfa29"
      },
      "source": [
        "### II.4. Running Elasticsearch queries\n",
        "\n",
        "Once your e-commerce data is cleaned and ready, let's analyse the data to gain insights that will drive the expansion strategy, this time using Elasticsearch and we'll focus on one specific country, which is Germany.\n",
        "\n",
        "1. **Find all transactions for a specific country**\n",
        "\n",
        "   Your company operates globally, but you want to understand better how different countries contribute to your sales. By finding all transactions that happened in a specific country, you can get a clearer picture of your company's reach and performance in that location. In our case, we'll focus on the country Germany.\n",
        "\n",
        "\n",
        "2. **Find all unique products in Germany**\n",
        "\n",
        "   Your first task is to understand the breadth of your company's product portfolio in Germany. By determining the total number of unique products you sell, you can assess the scale and diversity of your operations.\n",
        "\n",
        "\n",
        "3. **Find the top 5 most purchased products in Germany**\n",
        "\n",
        "   Next up, you'll identify the best-selling products in your portfolio in Germany. Knowing which items are the most purchased can help guide decisions about product focus and marketing efforts. We'll limit the result to 5 most purchased products.\n",
        "\n",
        "\n",
        "By executing these tasks, you will enable your team to provide data-driven insights which will directly contribute to the strategic decisions about your business expansion. As part of the data engineering team, you're not only maintaining the technical infrastructure - you're shaping the future of the company.\n",
        "\n",
        "There are two more tasks below to check your understanding on how to handle date type data as well as searching using partial keyword:\n",
        "\n",
        "4. **Find a product's transactions over time**\n",
        "\n",
        "   Trends in purchases over time for specific products can provide insights into product popularity and seasonality. You decide to track a product's transactions over a period to understand its sales pattern. In this case we'll use the product \"I LOVE LONDON MINI RUCKSACK\"\n",
        "\n",
        "5. **Search for a product using a part of its description**\n",
        "\n",
        "   Finally, you want to investigate how robust and reliable your product search feature is. You decide to test it by searching for a product using a part of its description. In this case, we'll use the keyword \"PIN\". Return only unique product name. And the product names should be stored in a list in alphabetical order.\n"
      ]
    },
    {
      "cell_type": "code",
      "execution_count": 55,
      "id": "38753049-8198-43fa-b497-b1b52e70e51e",
      "metadata": {
        "id": "38753049-8198-43fa-b497-b1b52e70e51e"
      },
      "outputs": [],
      "source": [
        "# Write your Elasticsearch Query here\n",
        "\n",
        "#use the following variable name to store the result from your Elasticsearch Query\n",
        "es_total_unique_products = 0\n",
        "es_transactions_in_germany = 0\n",
        "es_top_products = {} #dictionary where key is product name, value is the quantity sold, see example below\n",
        "es_transactions_over_time = {} #dictionary where key is invoice date, value is the quantity sold, see example below\n",
        "es_unique_product_search = [] #list containing the products in alphabetical order"
      ]
    },
    {
      "cell_type": "markdown",
      "source": [
        "#### 1. Find all transactions for a specific country (Germany)"
      ],
      "metadata": {
        "id": "OAPXnjXFB2UW"
      },
      "id": "OAPXnjXFB2UW"
    },
    {
      "cell_type": "markdown",
      "source": [
        "Example: es_transactions_in_germany = 7584"
      ],
      "metadata": {
        "id": "Y7opwEa_B7Ex"
      },
      "id": "Y7opwEa_B7Ex"
    },
    {
      "cell_type": "code",
      "source": [
        "# Define the query\n",
        "query = {\n",
        "    \"query\": {\n",
        "        \"match\": {\n",
        "            \"Country\": \"Germany\"\n",
        "        }\n",
        "    }\n",
        "}\n",
        "\n",
        "# Execute the query\n",
        "response = es.search(index=index_name, body=query)\n",
        "\n",
        "# Get the count of matching transactions\n",
        "es_transactions_in_germany = response[\"hits\"][\"total\"][\"value\"]\n",
        "print(\"Total transactions in Germany:\", es_transactions_in_germany)"
      ],
      "metadata": {
        "colab": {
          "base_uri": "https://localhost:8080/"
        },
        "id": "MH8m7a09B8ko",
        "outputId": "9f7863bf-b559-4e47-b92a-dd0d736abfe8"
      },
      "id": "MH8m7a09B8ko",
      "execution_count": 56,
      "outputs": [
        {
          "output_type": "stream",
          "name": "stdout",
          "text": [
            "Total transactions in Germany: 9495\n"
          ]
        }
      ]
    },
    {
      "cell_type": "markdown",
      "source": [
        "#### 2. Find all unique products in Germany"
      ],
      "metadata": {
        "id": "kVDJ5qrqB9w3"
      },
      "id": "kVDJ5qrqB9w3"
    },
    {
      "cell_type": "markdown",
      "source": [
        "Hints: Use set() to remove duplicate values\n",
        "\n",
        "Example: es_total_unique_products = 45345"
      ],
      "metadata": {
        "id": "QyaVLClFCA9C"
      },
      "id": "QyaVLClFCA9C"
    },
    {
      "cell_type": "code",
      "execution_count": 57,
      "id": "ef83c53f-bec9-484e-8f37-904879d987e3",
      "metadata": {
        "id": "ef83c53f-bec9-484e-8f37-904879d987e3",
        "colab": {
          "base_uri": "https://localhost:8080/"
        },
        "outputId": "0eb8aa82-94eb-4db1-ecbf-16be0e14e0e4"
      },
      "outputs": [
        {
          "output_type": "stream",
          "name": "stdout",
          "text": [
            "Total unique products in Germany: 1703\n"
          ]
        }
      ],
      "source": [
        "# Define the query to retrieve all documents with country \"Germany\"\n",
        "query = {\n",
        "    \"query\": {\n",
        "        \"match\": {\n",
        "            \"Country\": \"Germany\"\n",
        "        }\n",
        "    },\n",
        "    \"size\": 10000  # Set size to a large number to ensure retrieval of all documents\n",
        "}\n",
        "\n",
        "# Execute the query\n",
        "response = es.search(index=index_name, body=query)\n",
        "\n",
        "# Extract unique products from the response\n",
        "unique_products = set()\n",
        "for hit in response[\"hits\"][\"hits\"]:\n",
        "    unique_products.add(hit[\"_source\"][\"Description\"])\n",
        "\n",
        "# Get the total count of unique products\n",
        "es_total_unique_products = len(unique_products)\n",
        "print(\"Total unique products in Germany:\", es_total_unique_products)"
      ]
    },
    {
      "cell_type": "markdown",
      "source": [
        "#### 3. Find the top 5 most purchased products in Germany"
      ],
      "metadata": {
        "id": "WDdKgN46CEi_"
      },
      "id": "WDdKgN46CEi_"
    },
    {
      "cell_type": "markdown",
      "source": [
        "Example: es_top_products = {'PRODUCT 1': 498, 'PRODUCT 2': 452, 'PRODUCT 3': 342, 'PRODUCT 4': 231, 'PRODUCT 5': 123}"
      ],
      "metadata": {
        "id": "NHG1B8hoCG1h"
      },
      "id": "NHG1B8hoCG1h"
    },
    {
      "cell_type": "code",
      "execution_count": 58,
      "id": "aa3c9f70-11de-4bd8-b4c2-9471392c0cf2",
      "metadata": {
        "id": "aa3c9f70-11de-4bd8-b4c2-9471392c0cf2"
      },
      "outputs": [],
      "source": [
        "# Define the query to retrieve top 5 most purchased products in Germany\n",
        "query = {\n",
        "    \"size\": 0,\n",
        "    \"query\": {\n",
        "        \"match\": {\n",
        "            \"Country\": \"Germany\"  # Filter for transactions in Germany\n",
        "        }\n",
        "    },\n",
        "    \"aggs\": {\n",
        "        \"top_products\": {\n",
        "            \"terms\": {\n",
        "                \"field\": \"Description\",\n",
        "                \"size\": 5\n",
        "            },\n",
        "            \"aggs\": {\n",
        "                \"count\": {\n",
        "                    \"sum\": {\n",
        "                        \"field\": \"Quantity\"\n",
        "                    }\n",
        "                }\n",
        "            }\n",
        "        }\n",
        "    }\n",
        "}"
      ]
    },
    {
      "cell_type": "code",
      "source": [
        "response = es.search(index=index_name, body=query)\n",
        "\n",
        "top_products = {}\n",
        "for bucket in response['aggregations']['top_products']['buckets']:\n",
        "    product_name = bucket['key']\n",
        "    count = bucket['count']['value']\n",
        "    top_products[product_name] = count\n",
        "\n",
        "es_top_products = top_products\n",
        "print(es_top_products)"
      ],
      "metadata": {
        "colab": {
          "base_uri": "https://localhost:8080/"
        },
        "id": "MOKpSubkMbbc",
        "outputId": "bed8b218-a865-4dea-9b97-25e411351add"
      },
      "id": "MOKpSubkMbbc",
      "execution_count": 59,
      "outputs": [
        {
          "output_type": "stream",
          "name": "stdout",
          "text": [
            "{'POSTAGE': 1104.0, 'ROUND SNACK BOXES SET OF4 WOODLAND ': 1218.0, 'REGENCY CAKESTAND 3 TIER': 737.0, 'ROUND SNACK BOXES SET OF 4 FRUITS ': 661.0, 'PLASTERS IN TIN WOODLAND ANIMALS': 842.0}\n"
          ]
        }
      ]
    },
    {
      "cell_type": "markdown",
      "source": [
        "#### 4. Find a product's transactions over time"
      ],
      "metadata": {
        "id": "zIU3RAUMCJuz"
      },
      "id": "zIU3RAUMCJuz"
    },
    {
      "cell_type": "markdown",
      "source": [
        "Hints: Date format is M/d/yyyy H:m\n",
        "\n",
        "Product = I LOVE LONDON MINI RUCKSACK\n",
        "\n",
        "Example: es_transactions_over_time = {'12/12/2010 11:11': 1, 12/12/2010 11:12': 1}"
      ],
      "metadata": {
        "id": "mVqLfD2VCMAI"
      },
      "id": "mVqLfD2VCMAI"
    },
    {
      "cell_type": "code",
      "execution_count": 60,
      "id": "6baa719a-c65c-47f7-b76e-c69674f3ade7",
      "metadata": {
        "id": "6baa719a-c65c-47f7-b76e-c69674f3ade7"
      },
      "outputs": [],
      "source": [
        "from datetime import datetime\n",
        "\n",
        "product_name = \" I LOVE LONDON MINI RUCKSACK\"\n",
        "\n",
        "query = {\n",
        "    \"size\": 10000,  # Set size to a large number to ensure retrieval of all relevant documents\n",
        "    \"query\": {\n",
        "        \"match\": {\n",
        "            \"Description\": product_name\n",
        "        }\n",
        "    }\n",
        "}"
      ]
    },
    {
      "cell_type": "code",
      "source": [
        "response = es.search(index=index_name, body=query)\n",
        "\n",
        "transactions_over_time = {}\n",
        "for hit in response[\"hits\"][\"hits\"]:\n",
        "    timestamp = datetime.strptime(hit[\"_source\"][\"InvoiceDate\"], \"%m/%d/%Y %H:%M\")\n",
        "    timestamp_str = timestamp.strftime(\"%m/%d/%Y %H:%M\")  # Format output as \"M/d/yyyy H:m\"\n",
        "    transactions_over_time[timestamp_str] = transactions_over_time.get(timestamp_str, 0) + 1\n",
        "\n",
        "es_transactions_over_time = transactions_over_time\n",
        "print(es_transactions_over_time)"
      ],
      "metadata": {
        "colab": {
          "base_uri": "https://localhost:8080/"
        },
        "id": "TH2oSGn-LZtB",
        "outputId": "4b8ccfb4-721c-4238-afc7-3803135cd074"
      },
      "id": "TH2oSGn-LZtB",
      "execution_count": 61,
      "outputs": [
        {
          "output_type": "stream",
          "name": "stdout",
          "text": [
            "{'10/06/2011 09:11': 1}\n"
          ]
        }
      ]
    },
    {
      "cell_type": "markdown",
      "source": [
        "#### 5. Search for a product using a part of its description"
      ],
      "metadata": {
        "id": "zHUmq_oKCOsg"
      },
      "id": "zHUmq_oKCOsg"
    },
    {
      "cell_type": "markdown",
      "source": [
        "Hints: Return only unique Product names, see number 1\n",
        "\n",
        "Example: es_unique_product_search = ['PRODUCT 1', 'PRODUCT 2']\n"
      ],
      "metadata": {
        "id": "SUSyM3qLCRDC"
      },
      "id": "SUSyM3qLCRDC"
    },
    {
      "cell_type": "code",
      "execution_count": 62,
      "id": "76d6db11-734d-4638-a2d7-06ebe88a1db3",
      "metadata": {
        "id": "76d6db11-734d-4638-a2d7-06ebe88a1db3"
      },
      "outputs": [],
      "source": [
        "search_term = \"PIN \"  # Lowercase search term\n",
        "\n",
        "query = {\n",
        "    \"size\": 0,  # We only need aggregations, no need to retrieve documents\n",
        "    \"query\": {\n",
        "        \"wildcard\": {\n",
        "            \"Description\": f\"*{search_term.upper()}*\"  # Using uppercase to match any case of \"PIN\"\n",
        "        }\n",
        "    },\n",
        "    \"aggs\": {\n",
        "        \"unique_descriptions\": {\n",
        "            \"terms\": {\n",
        "                \"field\": \"Description\",  # Perform aggregation on the \"Description\" field\n",
        "                \"size\": 10,  # Adjust the size according to your needs\n",
        "                \"order\": {\n",
        "                    \"_key\": \"asc\"  # Sort the unique descriptions alphabetically\n",
        "                }\n",
        "            }\n",
        "        }\n",
        "    }\n",
        "}"
      ]
    },
    {
      "cell_type": "code",
      "source": [
        "response = es.search(index=index_name, body=query)\n",
        "\n",
        "# Extract unique product names from the response\n",
        "es_unique_product_search = [bucket['key'] for bucket in response['aggregations']['unique_descriptions']['buckets']]\n",
        "es_unique_product_search"
      ],
      "metadata": {
        "colab": {
          "base_uri": "https://localhost:8080/"
        },
        "id": "ubbLTDnNGXBu",
        "outputId": "d6e43f69-f5a2-4087-9e27-7b2672c535f9"
      },
      "id": "ubbLTDnNGXBu",
      "execution_count": 63,
      "outputs": [
        {
          "output_type": "execute_result",
          "data": {
            "text/plain": [
              "['PANTRY 3 HOOK ROLLING PIN HANGER',\n",
              " 'PIN CUSHION BABUSHKA BLUE',\n",
              " 'PIN CUSHION BABUSHKA PINK',\n",
              " 'PIN CUSHION BABUSHKA RED']"
            ]
          },
          "metadata": {},
          "execution_count": 63
        }
      ]
    },
    {
      "cell_type": "markdown",
      "id": "5d59af48-18c0-4e40-80ff-33a85030b205",
      "metadata": {
        "id": "5d59af48-18c0-4e40-80ff-33a85030b205"
      },
      "source": [
        "## Submission\n",
        "\n",
        "Once you are satisfied with the performance of your model, then you run the code block below to submit your project.\n"
      ]
    },
    {
      "cell_type": "code",
      "execution_count": 64,
      "id": "010d7f7f-711d-4f41-82a3-3c2562e59709",
      "metadata": {
        "id": "010d7f7f-711d-4f41-82a3-3c2562e59709",
        "colab": {
          "base_uri": "https://localhost:8080/",
          "height": 36
        },
        "outputId": "fe3ae272-206d-445e-e208-856fac3a409d"
      },
      "outputs": [
        {
          "output_type": "execute_result",
          "data": {
            "text/plain": [
              "'Assignment successfully submitted'"
            ],
            "application/vnd.google.colaboratory.intrinsic+json": {
              "type": "string"
            }
          },
          "metadata": {},
          "execution_count": 64
        }
      ],
      "source": [
        "# Submit Method\n",
        "\n",
        "# Do not change the code below\n",
        "question_id = \"01_sql_columns\"\n",
        "submit(student_id, name, assignment_id, str(sql_columns), question_id, drive_link)\n",
        "question_id = \"02_sql_num_rows\"\n",
        "submit(student_id, name, assignment_id, str(sql_num_rows), question_id, drive_link)\n",
        "question_id = \"03_sql_num_products\"\n",
        "submit(student_id, name, assignment_id, str(sql_num_products), question_id, drive_link)\n",
        "question_id = \"04_sql_num_customers\"\n",
        "submit(student_id, name, assignment_id, str(sql_num_customers), question_id, drive_link)\n",
        "question_id = \"05_sql_top_product_revenues\"\n",
        "submit(student_id, name, assignment_id, str(sql_top_product_revenues), question_id, drive_link)\n",
        "question_id = \"06_sql_top_countries\"\n",
        "submit(student_id, name, assignment_id, str(sql_top_countries), question_id, drive_link)\n",
        "question_id = \"07_sql_top_selling_products_by_country_by_sales\"\n",
        "submit(student_id, name, assignment_id, str(sql_top_selling_products_by_country_by_sales), question_id, drive_link)\n",
        "question_id = \"08_sql_top_selling_products_by_country_by_quantity\"\n",
        "submit(student_id, name, assignment_id, str(sql_top_selling_products_by_country_by_quantity), question_id, drive_link)\n",
        "\n",
        "question_id = \"09_es_columns\"\n",
        "submit(student_id, name, assignment_id, str(es_columns), question_id, drive_link)\n",
        "question_id = \"10_es_num_rows\"\n",
        "submit(student_id, name, assignment_id, str(es_num_rows), question_id, drive_link)\n",
        "question_id = \"11_es_total_unique_products\"\n",
        "submit(student_id, name, assignment_id, str(es_total_unique_products), question_id, drive_link)\n",
        "question_id = \"12_es_transactions_in_germany\"\n",
        "submit(student_id, name, assignment_id, str(es_transactions_in_germany), question_id, drive_link)\n",
        "question_id = \"13_es_top_products\"\n",
        "submit(student_id, name, assignment_id, str(es_top_products), question_id, drive_link)\n",
        "question_id = \"14_es_transactions_over_time\"\n",
        "submit(student_id, name, assignment_id, str(es_transactions_over_time), question_id, drive_link)\n",
        "question_id = \"15_es_unique_product_search\"\n",
        "submit(student_id, name, assignment_id, str(es_unique_product_search), question_id, drive_link)"
      ]
    },
    {
      "cell_type": "markdown",
      "id": "aa89b9ff-0d31-416a-b3c4-851c725fadf7",
      "metadata": {
        "id": "aa89b9ff-0d31-416a-b3c4-851c725fadf7"
      },
      "source": [
        "## FIN"
      ]
    }
  ],
  "metadata": {
    "kernelspec": {
      "display_name": "Python 3 (ipykernel)",
      "language": "python",
      "name": "python3"
    },
    "language_info": {
      "codemirror_mode": {
        "name": "ipython",
        "version": 3
      },
      "file_extension": ".py",
      "mimetype": "text/x-python",
      "name": "python",
      "nbconvert_exporter": "python",
      "pygments_lexer": "ipython3",
      "version": "3.11.3"
    },
    "colab": {
      "provenance": []
    }
  },
  "nbformat": 4,
  "nbformat_minor": 5
}